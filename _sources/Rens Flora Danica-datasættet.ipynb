{
 "cells": [
  {
   "cell_type": "markdown",
   "id": "b2a236d3-e500-4049-b565-9fde1b14712f",
   "metadata": {},
   "source": [
    "# Rens Flora Danica-datasættet  \n",
    "Flora Danica-datasættet indeholder metadata i en xlsx-fil og mere end 3000 tiff-filer. I notebooken renser og udforsker vi de tmetadatasæt, som er tilgængeligt i LOAR."
   ]
  },
  {
   "cell_type": "markdown",
   "id": "5cf124c8-7713-42bd-9d8f-ee0406e2991a",
   "metadata": {},
   "source": [
    "## Importer bibliotekerne"
   ]
  },
  {
   "cell_type": "code",
   "execution_count": 1,
   "id": "7a990c8d-8db9-4ef3-a4e8-3c47bbfd1935",
   "metadata": {},
   "outputs": [],
   "source": [
    "import pandas as pd\n",
    "import re\n",
    "import requests"
   ]
  },
  {
   "cell_type": "markdown",
   "id": "1433f4ad-463a-4941-839b-8427801d8683",
   "metadata": {},
   "source": [
    "## Gør metadataet \"tidy\"\n",
    "\n",
    "Metadataet kommer fra en datadump fra biblioteket.\n",
    "\n",
    "Selvom datasættet umiddelbart ser ud til at være velstruktureret, kan vi få mere ud af det, hvis vi rydder lidt op i datae. \n",
    "\n",
    "Lad os tage et kig på data."
   ]
  },
  {
   "cell_type": "code",
   "execution_count": 39,
   "id": "cae60747-e2d6-49cc-a612-b40f93630bd2",
   "metadata": {},
   "outputs": [
    {
     "name": "stdout",
     "output_type": "stream",
     "text": [
      "Indlæs data\n",
      "Færdig. Dataframens form: (3240, 10)\n",
      "Inspicer de første tre rækker data.\n"
     ]
    },
    {
     "data": {
      "text/html": [
       "<div>\n",
       "<style scoped>\n",
       "    .dataframe tbody tr th:only-of-type {\n",
       "        vertical-align: middle;\n",
       "    }\n",
       "\n",
       "    .dataframe tbody tr th {\n",
       "        vertical-align: top;\n",
       "    }\n",
       "\n",
       "    .dataframe thead th {\n",
       "        text-align: right;\n",
       "    }\n",
       "</style>\n",
       "<table border=\"1\" class=\"dataframe\">\n",
       "  <thead>\n",
       "    <tr style=\"text-align: right;\">\n",
       "      <th></th>\n",
       "      <th>Record Name</th>\n",
       "      <th>Titel</th>\n",
       "      <th>Opstilling</th>\n",
       "      <th>Lokalitet</th>\n",
       "      <th>Ophav</th>\n",
       "      <th>År</th>\n",
       "      <th>Note</th>\n",
       "      <th>Taxonomisk gruppe</th>\n",
       "      <th>Hæfte</th>\n",
       "      <th>Copyright</th>\n",
       "    </tr>\n",
       "  </thead>\n",
       "  <tbody>\n",
       "    <tr>\n",
       "      <th>0</th>\n",
       "      <td>floradanica_0001.tif</td>\n",
       "      <td>Rubus Chamaemorus Linn.</td>\n",
       "      <td>Fol. Top. Bot. Danmark</td>\n",
       "      <td>Danmark\\nNorge</td>\n",
       "      <td>Hornemann, Jens Wilken (6.3.1770-30.7.1841) bo...</td>\n",
       "      <td>1761</td>\n",
       "      <td>Flora Danica Hft. 1, Tab. 1\\n\\nFigur 1\\nLatins...</td>\n",
       "      <td>Digitale Samlinger: Digitale Samlinger: Billed...</td>\n",
       "      <td>Digitale Samlinger: Billeder:Særudgivelser:Flo...</td>\n",
       "      <td>Materialet er fri af ophavsret</td>\n",
       "    </tr>\n",
       "    <tr>\n",
       "      <th>1</th>\n",
       "      <td>floradanica_0002.tif</td>\n",
       "      <td>Pedicularis lapponica L.</td>\n",
       "      <td>Fol. Top. Bot. Danmark</td>\n",
       "      <td>Danmark\\nNorge</td>\n",
       "      <td>Hornemann, Jens Wilken (6.3.1770-30.7.1841) bo...</td>\n",
       "      <td>1761</td>\n",
       "      <td>Flora Danica Hft. 1, Tab. 2\\n\\nFigur 1\\nLatins...</td>\n",
       "      <td>Digitale Samlinger: Digitale Samlinger: Billed...</td>\n",
       "      <td>Digitale Samlinger: Billeder:Særudgivelser:Flo...</td>\n",
       "      <td>Materialet er fri af ophavsret</td>\n",
       "    </tr>\n",
       "  </tbody>\n",
       "</table>\n",
       "</div>"
      ],
      "text/plain": [
       "            Record Name                     Titel              Opstilling  \\\n",
       "0  floradanica_0001.tif   Rubus Chamaemorus Linn.  Fol. Top. Bot. Danmark   \n",
       "1  floradanica_0002.tif  Pedicularis lapponica L.  Fol. Top. Bot. Danmark   \n",
       "\n",
       "        Lokalitet                                              Ophav    År  \\\n",
       "0  Danmark\\nNorge  Hornemann, Jens Wilken (6.3.1770-30.7.1841) bo...  1761   \n",
       "1  Danmark\\nNorge  Hornemann, Jens Wilken (6.3.1770-30.7.1841) bo...  1761   \n",
       "\n",
       "                                                Note  \\\n",
       "0  Flora Danica Hft. 1, Tab. 1\\n\\nFigur 1\\nLatins...   \n",
       "1  Flora Danica Hft. 1, Tab. 2\\n\\nFigur 1\\nLatins...   \n",
       "\n",
       "                                   Taxonomisk gruppe  \\\n",
       "0  Digitale Samlinger: Digitale Samlinger: Billed...   \n",
       "1  Digitale Samlinger: Digitale Samlinger: Billed...   \n",
       "\n",
       "                                               Hæfte  \\\n",
       "0  Digitale Samlinger: Billeder:Særudgivelser:Flo...   \n",
       "1  Digitale Samlinger: Billeder:Særudgivelser:Flo...   \n",
       "\n",
       "                        Copyright  \n",
       "0  Materialet er fri af ophavsret  \n",
       "1  Materialet er fri af ophavsret  "
      ]
     },
     "execution_count": 39,
     "metadata": {},
     "output_type": "execute_result"
    }
   ],
   "source": [
    "# Indlæs filen med Flora Danica metadata\n",
    "print ('Indlæs data')\n",
    "df = pd.read_excel(r'mekuni_flora_danica_data/Index_FloraDanica.xlsx')\n",
    "print (f'Færdig. Dataframens form: {df.shape}')\n",
    "print ('Inspicer de første tre rækker data.')\n",
    "\n",
    "df.head(2)"
   ]
  },
  {
   "cell_type": "markdown",
   "id": "e3fbd2b6-4c86-4325-901c-83abf751e0cc",
   "metadata": {},
   "source": [
    "## Omdøb kolonner\n",
    "\n",
    "Navnene på kolonnerne er rodet. Vi har en blanding af engelsk og dansk. For at omdøbe kolonnerne i dataframen, mapper vi de gamle navne til nogle nye navne og omdøber derefter kolonnerne."
   ]
  },
  {
   "cell_type": "code",
   "execution_count": 3,
   "id": "7d200a87-2c9d-4b44-bb36-0be0653db594",
   "metadata": {},
   "outputs": [],
   "source": [
    "# Define the mapping from old column names to new column names\n",
    "column_rename_mapping = {\n",
    "    \"Record Name\": \"record_name\",\n",
    "    \"Titel\": \"title\",\n",
    "    \"Opstilling\": \"placement\",\n",
    "    \"Lokalitet\": \"location\",\n",
    "    \"Ophav\": \"author\",\n",
    "    \"År\": \"year\",\n",
    "    \"Note\": \"note\",\n",
    "    \"Taxonomisk gruppe\": \"taxonomic_group\",\n",
    "    \"Hæfte\": \"issue\",\n",
    "    \"Copyright\": \"copyright\"\n",
    "}\n",
    "\n",
    "# Rename the columns using the mapping\n",
    "df.rename(columns=column_rename_mapping, inplace=True)"
   ]
  },
  {
   "cell_type": "markdown",
   "id": "41289bbd-d72c-401e-8195-f4fb55c0ed14",
   "metadata": {},
   "source": [
    "## Tabel nummer: tilføj information om tabelnummerne\n",
    "\n",
    "Hvert billede i Flora Danica er markeret med et tabelnummer. Det er ofte øverst på billedet. Der er 3240 forskellige numre. Vi kan oprette en kolonne med tabelnumrene ved at tage indeksnumrene, der starter med 0, og tilføje én."
   ]
  },
  {
   "cell_type": "code",
   "execution_count": 38,
   "id": "318bdc7e-fd3d-4308-a2c5-302e81f77a9a",
   "metadata": {},
   "outputs": [
    {
     "name": "stdout",
     "output_type": "stream",
     "text": [
      "modificer dataframen og tilføj kolonnen kaldet table_no\n"
     ]
    },
    {
     "data": {
      "text/html": [
       "<div>\n",
       "<style scoped>\n",
       "    .dataframe tbody tr th:only-of-type {\n",
       "        vertical-align: middle;\n",
       "    }\n",
       "\n",
       "    .dataframe tbody tr th {\n",
       "        vertical-align: top;\n",
       "    }\n",
       "\n",
       "    .dataframe thead th {\n",
       "        text-align: right;\n",
       "    }\n",
       "</style>\n",
       "<table border=\"1\" class=\"dataframe\">\n",
       "  <thead>\n",
       "    <tr style=\"text-align: right;\">\n",
       "      <th></th>\n",
       "      <th>table_no</th>\n",
       "      <th>table_no</th>\n",
       "      <th>record_name</th>\n",
       "      <th>title</th>\n",
       "      <th>placement</th>\n",
       "      <th>location</th>\n",
       "      <th>author</th>\n",
       "      <th>year</th>\n",
       "      <th>note</th>\n",
       "      <th>taxonomic_group</th>\n",
       "      <th>issue</th>\n",
       "      <th>copyright</th>\n",
       "    </tr>\n",
       "  </thead>\n",
       "  <tbody>\n",
       "    <tr>\n",
       "      <th>0</th>\n",
       "      <td>1</td>\n",
       "      <td>2</td>\n",
       "      <td>floradanica_0001.tif</td>\n",
       "      <td>Rubus Chamaemorus Linn.</td>\n",
       "      <td>Fol. Top. Bot. Danmark</td>\n",
       "      <td>Danmark\\nNorge</td>\n",
       "      <td>Hornemann, Jens Wilken (6.3.1770-30.7.1841) bo...</td>\n",
       "      <td>1761</td>\n",
       "      <td>Flora Danica Hft. 1, Tab. 1\\n\\nFigur 1\\nLatins...</td>\n",
       "      <td>Digitale Samlinger: Digitale Samlinger: Billed...</td>\n",
       "      <td>Digitale Samlinger: Billeder:Særudgivelser:Flo...</td>\n",
       "      <td>Materialet er fri af ophavsret</td>\n",
       "    </tr>\n",
       "    <tr>\n",
       "      <th>1</th>\n",
       "      <td>2</td>\n",
       "      <td>3</td>\n",
       "      <td>floradanica_0002.tif</td>\n",
       "      <td>Pedicularis lapponica L.</td>\n",
       "      <td>Fol. Top. Bot. Danmark</td>\n",
       "      <td>Danmark\\nNorge</td>\n",
       "      <td>Hornemann, Jens Wilken (6.3.1770-30.7.1841) bo...</td>\n",
       "      <td>1761</td>\n",
       "      <td>Flora Danica Hft. 1, Tab. 2\\n\\nFigur 1\\nLatins...</td>\n",
       "      <td>Digitale Samlinger: Digitale Samlinger: Billed...</td>\n",
       "      <td>Digitale Samlinger: Billeder:Særudgivelser:Flo...</td>\n",
       "      <td>Materialet er fri af ophavsret</td>\n",
       "    </tr>\n",
       "  </tbody>\n",
       "</table>\n",
       "</div>"
      ],
      "text/plain": [
       "   table_no  table_no           record_name                     title  \\\n",
       "0         1         2  floradanica_0001.tif   Rubus Chamaemorus Linn.   \n",
       "1         2         3  floradanica_0002.tif  Pedicularis lapponica L.   \n",
       "\n",
       "                placement        location  \\\n",
       "0  Fol. Top. Bot. Danmark  Danmark\\nNorge   \n",
       "1  Fol. Top. Bot. Danmark  Danmark\\nNorge   \n",
       "\n",
       "                                              author  year  \\\n",
       "0  Hornemann, Jens Wilken (6.3.1770-30.7.1841) bo...  1761   \n",
       "1  Hornemann, Jens Wilken (6.3.1770-30.7.1841) bo...  1761   \n",
       "\n",
       "                                                note  \\\n",
       "0  Flora Danica Hft. 1, Tab. 1\\n\\nFigur 1\\nLatins...   \n",
       "1  Flora Danica Hft. 1, Tab. 2\\n\\nFigur 1\\nLatins...   \n",
       "\n",
       "                                     taxonomic_group  \\\n",
       "0  Digitale Samlinger: Digitale Samlinger: Billed...   \n",
       "1  Digitale Samlinger: Digitale Samlinger: Billed...   \n",
       "\n",
       "                                               issue  \\\n",
       "0  Digitale Samlinger: Billeder:Særudgivelser:Flo...   \n",
       "1  Digitale Samlinger: Billeder:Særudgivelser:Flo...   \n",
       "\n",
       "                        copyright  \n",
       "0  Materialet er fri af ophavsret  \n",
       "1  Materialet er fri af ophavsret  "
      ]
     },
     "execution_count": 38,
     "metadata": {},
     "output_type": "execute_result"
    }
   ],
   "source": [
    "# modificer dataframen og tilføj kolonnen kaldet table_no  \n",
    "print('modificer dataframen og tilføj kolonnen kaldet table_no')  \n",
    "df = df.reset_index().rename(columns={'index': 'table_no'})  \n",
    "df['table_no'] = df['table_no'] + 1  \n",
    "df.head(2)"
   ]
  },
  {
   "cell_type": "markdown",
   "id": "f87d01ac-5f01-419d-bedb-d2a1d8edf98c",
   "metadata": {},
   "source": [
    "## Kolonne: Ophav\n",
    "Alle rækker i kolonnen \"Ophav\" indeholder den samme, identiske information, som er navnene og fødsels- og dødsdatoerne på flere af de botanikere, der har været ansvarlige for udgivelsesarbejdet.\n",
    "\n",
    "Den ensartede information i ser således ud:\n",
    "\n",
    "_'Hornemann, Jens Wilken (6.3.1770-30.7.1841) botaniker \\nLange, Johan Martin Christian (20.3.1818-3.4.1898) botaniker \\nLiebmann, Frederik Michael (10.10.1813-29.10.1856) botaniker \\nMüller, Otto Frederik (2.3.1730-26.12.1784) botaniker \\nOeder, Georg Christian (3.2.1728-28.1.1791) botaniker \\nVahl, Martin (7.10.1749-24.12.1804) botaniker'_  \n",
    "\n",
    "For at kunne sortere og filtrere datasættet baseret på oplysninger om ophav, har vi brug for detaljerede oplysninger om, hvilken forfatter der har været ansvarlig for udgivelsen af hvert billede. _[En sådan detaljeret oversigt kan findes på denne side](http://wayback-01.kb.dk/wayback/20101110095834/http://www2.kb.dk/udstillinger/floradanica/floradanica/editorer/oversigt.html)_\n",
    "\n",
    "\n",
    "\n",
    "\n",
    "| Hæfte     | Tavle nr.   | År   | Udgiver                                   |\n",
    "|-----------|-------------|------|-------------------------------------------|\n",
    "| 1         | 1-60        | 1761 | G. C. Oeder                               |\n",
    "| 2         | 61-120      | 1763 | G. C. Oeder                               |\n",
    "| 3         | 121-180     | 1764 | G. C. Oeder                               |\n",
    "| 4         | 181-240     | 1765 | G. C. Oeder                               |\n",
    "| 5         | 241-300     | 1766 | G. C. Oeder                               |\n",
    "| 6         | 301-360     | 1767 | G. C. Oeder                               |\n",
    "| 7         | 361-420     | 1768 | G. C. Oeder                               |\n",
    "| 8         | 421-480     | 1769 | G. C. Oeder                               |\n",
    "| 9         | 481-540     | 1770 | G. C. Oeder                               |\n",
    "| 10        | 541-600     | 1771 | G. C. Oeder                               |\n",
    "| 11        | 601-660     | 1775 | O. F. Müller                              |\n",
    "| 12        | 661-720     | 1777 | O. F. Müller                              |\n",
    "| 13        | 721-780     | 1778 | O. F. Müller                              |\n",
    "| 14        | 781-840     | 1780 | O. F. Müller                              |\n",
    "| 15        | 841-900     | 1782 | O. F. Müller                              |\n",
    "| 16        | 901-960     | 1787 | M. Vahl                                   |\n",
    "| 17        | 961-1020    | 1790 | M. Vahl                                   |\n",
    "| 18        | 1021-1080   | 1792 | M. Vahl                                   |\n",
    "| 19        | 1081-1140   | 1794 | M. Vahl                                   |\n",
    "| 20        | 1141-1200   | 1797 | M. Vahl                                   |\n",
    "| 21        | 1201-1260   | 1799 | M. Vahl                                   |\n",
    "| 22        | 1261-1320   | 1806 | J. W. Hornemann                           |\n",
    "| 23        | 1321-1380   | 1808 | J. W. Hornemann                           |\n",
    "| 24        | 1381-1440   | 1810 | J. W. Hornemann                           |\n",
    "| 25        | 1441-1500   | 1813 | J. W. Hornemann                           |\n",
    "| 26        | 1501-1560   | 1816 | J. W. Hornemann                           |\n",
    "| 27        | 1561-1620   | 1818 | J. W. Hornemann                           |\n",
    "| 28        | 1621-1680   | 1819 | J. W. Hornemann                           |\n",
    "| 29        | 1681-1740   | 1821 | J. W. Hornemann                           |\n",
    "| 30        | 1741-1800   | 1823 | J. W. Hornemann                           |\n",
    "| 31        | 1801-1860   | 1825 | J. W. Hornemann                           |\n",
    "| 32        | 1861-1920   | 1827 | J. W. Hornemann                           |\n",
    "| 33        | 1921-1980   | 1829 | J. W. Hornemann                           |\n",
    "| 34        | 1981-2040   | 1830 | J. W. Hornemann                           |\n",
    "| 35        | 2041-2100   | 1832 | J. W. Hornemann                           |\n",
    "| 36        | 2101-2160   | 1834 | J. W. Hornemann                           |\n",
    "| 37        | 2161-2220   | 1836 | J. W. Hornemann                           |\n",
    "| 38        | 2221-2280   | 1839 | J. W. Hornemann                           |\n",
    "| 39        | 2281-2340   | 1840 | J. W. Hornemann                           |\n",
    "| 40        | 2341-2400   | 1843 | S. Drejer, J. F. Schouw & J. Vahl         |\n",
    "| 41        | 2401-2460   | 1845 | F. Liebmann                               |\n",
    "| 42        | 2461-2520   | 1849 | F. Liebmann                               |\n",
    "| 43        | 2521-2580   | 1852 | F. Liebmann                               |\n",
    "| 44        | 2581-2640   | 1858 | Japetus Steenstrup & Johan Lange          |\n",
    "| 45        | 2641-2700   | 1861 | Johan Lange                               |\n",
    "| 46        | 2701-2760   | 1867 | Johan Lange                               |\n",
    "| 47        | 2761-2820   | 1869 | Johan Lange                               |\n",
    "| 48        | 2821-2880   | 1871 | Johan Lange                               |\n",
    "| 49        | 2881-2940   | 1877 | Johan Lange                               |\n",
    "| 50        | 2940-3000   | 1880 | Johan Lange                               |\n",
    "| 51        | 3001-3060   | 1883 | Johan Lange                               |\n",
    "| Suppl 1   | 1-60        | 1853 | F. Liebmann                               |\n",
    "| Suppl 2   | 61-120      | 1865 | Johan Lange                               |\n",
    "| Suppl 3   | 121-180     | 1874 | Johan Lange                               |\n",
    "\n",
    "\n",
    "\n",
    "Lad os tilføje oplysningerne om tabeller og forfattere til hver række i datasættet. \n",
    "\n",
    "Bemærk, at de sidste tre linjer beskriver de 180 tabeller i tillægssiderne til Flora Danica."
   ]
  },
  {
   "cell_type": "code",
   "execution_count": 37,
   "id": "c7228a8f-f39b-445b-afc5-7e0049a5bf1e",
   "metadata": {},
   "outputs": [
    {
     "name": "stdout",
     "output_type": "stream",
     "text": [
      "Nye data om \"author\" er tilføjet til kolonnen \"author_st\".\n",
      "\n"
     ]
    },
    {
     "data": {
      "text/html": [
       "<div>\n",
       "<style scoped>\n",
       "    .dataframe tbody tr th:only-of-type {\n",
       "        vertical-align: middle;\n",
       "    }\n",
       "\n",
       "    .dataframe tbody tr th {\n",
       "        vertical-align: top;\n",
       "    }\n",
       "\n",
       "    .dataframe thead th {\n",
       "        text-align: right;\n",
       "    }\n",
       "</style>\n",
       "<table border=\"1\" class=\"dataframe\">\n",
       "  <thead>\n",
       "    <tr style=\"text-align: right;\">\n",
       "      <th></th>\n",
       "      <th>table_no</th>\n",
       "      <th>record_name</th>\n",
       "      <th>title</th>\n",
       "      <th>placement</th>\n",
       "      <th>location</th>\n",
       "      <th>author</th>\n",
       "      <th>year</th>\n",
       "      <th>note</th>\n",
       "      <th>taxonomic_group</th>\n",
       "      <th>issue</th>\n",
       "      <th>copyright</th>\n",
       "      <th>author_st</th>\n",
       "    </tr>\n",
       "  </thead>\n",
       "  <tbody>\n",
       "    <tr>\n",
       "      <th>0</th>\n",
       "      <td>1</td>\n",
       "      <td>floradanica_0001.tif</td>\n",
       "      <td>Rubus Chamaemorus Linn.</td>\n",
       "      <td>Fol. Top. Bot. Danmark</td>\n",
       "      <td>Danmark\\nNorge</td>\n",
       "      <td>Hornemann, Jens Wilken (6.3.1770-30.7.1841) bo...</td>\n",
       "      <td>1761</td>\n",
       "      <td>Flora Danica Hft. 1, Tab. 1\\n\\nFigur 1\\nLatins...</td>\n",
       "      <td>Digitale Samlinger: Digitale Samlinger: Billed...</td>\n",
       "      <td>Digitale Samlinger: Billeder:Særudgivelser:Flo...</td>\n",
       "      <td>Materialet er fri af ophavsret</td>\n",
       "      <td>G. C. Oeder</td>\n",
       "    </tr>\n",
       "    <tr>\n",
       "      <th>1</th>\n",
       "      <td>2</td>\n",
       "      <td>floradanica_0002.tif</td>\n",
       "      <td>Pedicularis lapponica L.</td>\n",
       "      <td>Fol. Top. Bot. Danmark</td>\n",
       "      <td>Danmark\\nNorge</td>\n",
       "      <td>Hornemann, Jens Wilken (6.3.1770-30.7.1841) bo...</td>\n",
       "      <td>1761</td>\n",
       "      <td>Flora Danica Hft. 1, Tab. 2\\n\\nFigur 1\\nLatins...</td>\n",
       "      <td>Digitale Samlinger: Digitale Samlinger: Billed...</td>\n",
       "      <td>Digitale Samlinger: Billeder:Særudgivelser:Flo...</td>\n",
       "      <td>Materialet er fri af ophavsret</td>\n",
       "      <td>G. C. Oeder</td>\n",
       "    </tr>\n",
       "  </tbody>\n",
       "</table>\n",
       "</div>"
      ],
      "text/plain": [
       "   table_no           record_name                     title  \\\n",
       "0         1  floradanica_0001.tif   Rubus Chamaemorus Linn.   \n",
       "1         2  floradanica_0002.tif  Pedicularis lapponica L.   \n",
       "\n",
       "                placement        location  \\\n",
       "0  Fol. Top. Bot. Danmark  Danmark\\nNorge   \n",
       "1  Fol. Top. Bot. Danmark  Danmark\\nNorge   \n",
       "\n",
       "                                              author  year  \\\n",
       "0  Hornemann, Jens Wilken (6.3.1770-30.7.1841) bo...  1761   \n",
       "1  Hornemann, Jens Wilken (6.3.1770-30.7.1841) bo...  1761   \n",
       "\n",
       "                                                note  \\\n",
       "0  Flora Danica Hft. 1, Tab. 1\\n\\nFigur 1\\nLatins...   \n",
       "1  Flora Danica Hft. 1, Tab. 2\\n\\nFigur 1\\nLatins...   \n",
       "\n",
       "                                     taxonomic_group  \\\n",
       "0  Digitale Samlinger: Digitale Samlinger: Billed...   \n",
       "1  Digitale Samlinger: Digitale Samlinger: Billed...   \n",
       "\n",
       "                                               issue  \\\n",
       "0  Digitale Samlinger: Billeder:Særudgivelser:Flo...   \n",
       "1  Digitale Samlinger: Billeder:Særudgivelser:Flo...   \n",
       "\n",
       "                        copyright    author_st  \n",
       "0  Materialet er fri af ophavsret  G. C. Oeder  \n",
       "1  Materialet er fri af ophavsret  G. C. Oeder  "
      ]
     },
     "execution_count": 37,
     "metadata": {},
     "output_type": "execute_result"
    }
   ],
   "source": [
    "#Opret en ny dataframe med detaljeret information om, hvordan tabelnumre relaterer sig til forfatterudskrifter.\n",
    "\n",
    "\n",
    "# Rå data string\n",
    "data = \"\"\"\n",
    "table_no\\tyear\\tauthor\n",
    "1-60 \t1761 \tG. C. Oeder\n",
    "61-120 \t1763 \tG. C. Oeder\n",
    "121-180 \t1764 \tG. C. Oeder\n",
    "181-240 \t1765 \tG. C. Oeder\n",
    "241-300 \t1766 \tG. C. Oeder\n",
    "301-360 \t1767 \tG. C. Oeder\n",
    "361-420 \t1768 \tG. C. Oeder\n",
    "421-480 \t1769 \tG. C. Oeder\n",
    "481-540 \t1770 \tG. C. Oeder\n",
    "541-600 \t1771 \tG. C. Oeder\n",
    "601-660 \t1775 \tO. F. Müller\n",
    "661-720 \t1777 \tO. F. Müller\n",
    "721-780 \t1778 \tO. F. Müller\n",
    "781-840 \t1780 \tO. F. Müller\n",
    "841-900 \t1782 \tO. F. Müller\n",
    "901-960 \t1787 \tM. Vahl\n",
    "961-1020 \t1790 \tM. Vahl\n",
    "1021-1080 \t1792 \tM. Vahl\n",
    "1081-1140 \t1794 \tM. Vahl\n",
    "1141-1200 \t1797 \tM. Vahl\n",
    "1201-1260 \t1799 \tM. Vahl\n",
    "1261-1320 \t1806 \tJ. W. Hornemann\n",
    "1321-1380 \t1808 \tJ. W. Hornemann\n",
    "1381-1440 \t1810 \tJ. W. Hornemann\n",
    "1441-1500 \t1813 \tJ. W. Hornemann\n",
    "1501-1560 \t1816 \tJ. W. Hornemann\n",
    "1561-1620 \t1818 \tJ. W. Hornemann\n",
    "1621-1680 \t1819 \tJ. W. Hornemann\n",
    "1681-1740 \t1821 \tJ. W. Hornemann\n",
    "1741-1800 \t1823 \tJ. W. Hornemann\n",
    "1801-1860 \t1825 \tJ. W. Hornemann\n",
    "1861-1920 \t1827 \tJ. W. Hornemann\n",
    "1921-1980 \t1829 \tJ. W. Hornemann\n",
    "1981-2040 \t1830 \tJ. W. Hornemann\n",
    "2041-2100 \t1832 \tJ. W. Hornemann\n",
    "2101-2160 \t1834 \tJ. W. Hornemann\n",
    "2161-2220 \t1836 \tJ. W. Hornemann\n",
    "2221-2280 \t1839 \tJ. W. Hornemann\n",
    "2281-2340 \t1840 \tJ. W. Hornemann\n",
    "2341-2400 \t1843 \tS. Drejer, J. F. Schouw & J. Vahl\n",
    "2401-2460 \t1845 \tF. Liebmann\n",
    "2461-2520 \t1849 \tF. Liebmann\n",
    "2521-2580 \t1852 \tF. Liebmann\n",
    "2581-2640 \t1858 \tJapetus Steenstrup & Johan Lange\n",
    "2641-2700 \t1861 \tJohan Lange\n",
    "2701-2760 \t1867 \tJohan Lange\n",
    "2761-2820 \t1869 \tJohan Lange\n",
    "2821-2880 \t1871 \tJohan Lange\n",
    "2881-2940 \t1877 \tJohan Lange\n",
    "2940-3000 \t1880 \tJohan Lange\n",
    "3001-3060 \t1883 \tJohan Lange\n",
    "3060-3119 \t1853 \tF. Liebmann\n",
    "3120-3179 \t1865 \tJohan Lange\n",
    "3180-3240 \t1874 \tJohan Lange\n",
    "\"\"\"\n",
    "\n",
    "# Opdel data i linjer og del hver linje i kolonner\n",
    "lines = data.strip().split('\\n')\n",
    "columns = lines[0].split('\\t')  # Ekstraher data\n",
    "data_rows = [re.split(r'\\s{2,}', line.strip()) for line in lines[1:]]  # Opret dataframes med detaljeret info\n",
    "detailed_info = pd.DataFrame(data_rows, columns=columns)\n",
    "\n",
    "# Sørg for, at 'table_no' behandles som en streng\n",
    "detailed_info['table_no'] = detailed_info['table_no'].astype(str)\n",
    "\n",
    "# Liste til at gemme nye dataframes\n",
    "new_dfs = []\n",
    "\n",
    "# Gennemgå hver række i dataframen\n",
    "for i, row in detailed_info.iterrows():\n",
    "    # Parse intervallet\n",
    "    start, end = map(int, row['table_no'].split('-'))\n",
    "    \n",
    "    # Opret indeksinterval\n",
    "    indices = range(start, end + 1)\n",
    "    \n",
    "    # Opret et nyt dataframe\n",
    "    new_df = pd.DataFrame({\n",
    "        'table_no': indices,\n",
    "        'author_st': [row['author']] * len(indices)\n",
    "    })\n",
    "    \n",
    "    # Tilføj til listen\n",
    "    new_dfs.append(new_df)\n",
    "\n",
    "# Nu indeholder new_dfs alle de nye dataframes\n",
    "# og de kan sammenføjes til ét stort dataframe\n",
    "detailed_info_df = pd.concat(new_dfs).reset_index(drop=True)\n",
    "\n",
    "print ('Nye data om \"author\" er tilføjet til kolonnen \"author_st\".\\n')\n",
    "# Kombiner datasæt\n",
    "df_w_year_author = pd.merge(df, detailed_info_df, how='left', on='table_no')\n",
    "df_w_year_author.head(2)"
   ]
  },
  {
   "cell_type": "markdown",
   "id": "6cfc01c2-8778-4ee5-93c1-53676900d788",
   "metadata": {},
   "source": [
    "## Kolonne 'issue': Rens den og tilføj en ny kolonne kaldet 'issue_st'\n",
    "\n",
    "Rækkerne i kolonnen 'issue' indeholder denne lange streng: _Digitale Samlinger: Billeder:Særudgivelser:Flora Danica:Hæfte:_ . \n",
    "\n",
    "Strengen er en sti, der angiver placeringen i de Digitale Samlinger. Vi har ikke brug for informationen om stien. De data, vi virkelig har brug for, er dem, der er tilbage, når vi fjerner den lange streng.\n",
    "\n",
    "Vi kan få dem ved at rense strengen, og det gør vi ved at erstatte den lange streng med ingenting. Vi gør det ved at skrive en funktion kaldet _clean_issue_ og bruge den indbyggede Python-metode .replace(). Vi anvender derefter funktionen på kolonnen 'issue' og tilføjer dataene til dataframen i en ny kolonne kaldet _issue_st_."
   ]
  },
  {
   "cell_type": "code",
   "execution_count": 10,
   "id": "415178bb-835e-40b7-9715-ccbf5bae04ed",
   "metadata": {},
   "outputs": [
    {
     "name": "stdout",
     "output_type": "stream",
     "text": [
      "Digitale Samlinger: Billeder:Særudgivelser:Flora Danica:Hæfte:Hft.  1\n",
      "Hft.  1\n"
     ]
    }
   ],
   "source": [
    "print (df_w_year_author.at[0,'issue'])\n",
    "\n",
    "long_string = df_w_year_author.at[0,'issue']\n",
    "\n",
    "clean_string = long_string.replace('Digitale Samlinger: Billeder:Særudgivelser:Flora Danica:Hæfte:', '')\n",
    "print(clean_string)"
   ]
  },
  {
   "cell_type": "code",
   "execution_count": 36,
   "id": "1e0ea35f-9581-4c19-8f0f-af4e87917e41",
   "metadata": {},
   "outputs": [
    {
     "data": {
      "text/html": [
       "<div>\n",
       "<style scoped>\n",
       "    .dataframe tbody tr th:only-of-type {\n",
       "        vertical-align: middle;\n",
       "    }\n",
       "\n",
       "    .dataframe tbody tr th {\n",
       "        vertical-align: top;\n",
       "    }\n",
       "\n",
       "    .dataframe thead th {\n",
       "        text-align: right;\n",
       "    }\n",
       "</style>\n",
       "<table border=\"1\" class=\"dataframe\">\n",
       "  <thead>\n",
       "    <tr style=\"text-align: right;\">\n",
       "      <th></th>\n",
       "      <th>table_no</th>\n",
       "      <th>record_name</th>\n",
       "      <th>title</th>\n",
       "      <th>placement</th>\n",
       "      <th>location</th>\n",
       "      <th>author</th>\n",
       "      <th>year</th>\n",
       "      <th>note</th>\n",
       "      <th>taxonomic_group</th>\n",
       "      <th>issue</th>\n",
       "      <th>copyright</th>\n",
       "      <th>author_st</th>\n",
       "      <th>issue_st</th>\n",
       "      <th>taxonomic_group_st</th>\n",
       "    </tr>\n",
       "  </thead>\n",
       "  <tbody>\n",
       "    <tr>\n",
       "      <th>0</th>\n",
       "      <td>1</td>\n",
       "      <td>floradanica_0001.tif</td>\n",
       "      <td>Rubus Chamaemorus Linn.</td>\n",
       "      <td>Fol. Top. Bot. Danmark</td>\n",
       "      <td>Danmark\\nNorge</td>\n",
       "      <td>Hornemann, Jens Wilken (6.3.1770-30.7.1841) bo...</td>\n",
       "      <td>1761</td>\n",
       "      <td>Flora Danica Hft. 1, Tab. 1\\n\\nFigur 1\\nLatins...</td>\n",
       "      <td>Digitale Samlinger: Digitale Samlinger: Billed...</td>\n",
       "      <td>Digitale Samlinger: Billeder:Særudgivelser:Flo...</td>\n",
       "      <td>free</td>\n",
       "      <td>G. C. Oeder</td>\n",
       "      <td>Hft.  1</td>\n",
       "      <td>Karplanter</td>\n",
       "    </tr>\n",
       "    <tr>\n",
       "      <th>1</th>\n",
       "      <td>2</td>\n",
       "      <td>floradanica_0002.tif</td>\n",
       "      <td>Pedicularis lapponica L.</td>\n",
       "      <td>Fol. Top. Bot. Danmark</td>\n",
       "      <td>Danmark\\nNorge</td>\n",
       "      <td>Hornemann, Jens Wilken (6.3.1770-30.7.1841) bo...</td>\n",
       "      <td>1761</td>\n",
       "      <td>Flora Danica Hft. 1, Tab. 2\\n\\nFigur 1\\nLatins...</td>\n",
       "      <td>Digitale Samlinger: Digitale Samlinger: Billed...</td>\n",
       "      <td>Digitale Samlinger: Billeder:Særudgivelser:Flo...</td>\n",
       "      <td>free</td>\n",
       "      <td>G. C. Oeder</td>\n",
       "      <td>Hft.  1</td>\n",
       "      <td>Karplanter</td>\n",
       "    </tr>\n",
       "  </tbody>\n",
       "</table>\n",
       "</div>"
      ],
      "text/plain": [
       "   table_no           record_name                     title  \\\n",
       "0         1  floradanica_0001.tif   Rubus Chamaemorus Linn.   \n",
       "1         2  floradanica_0002.tif  Pedicularis lapponica L.   \n",
       "\n",
       "                placement        location  \\\n",
       "0  Fol. Top. Bot. Danmark  Danmark\\nNorge   \n",
       "1  Fol. Top. Bot. Danmark  Danmark\\nNorge   \n",
       "\n",
       "                                              author  year  \\\n",
       "0  Hornemann, Jens Wilken (6.3.1770-30.7.1841) bo...  1761   \n",
       "1  Hornemann, Jens Wilken (6.3.1770-30.7.1841) bo...  1761   \n",
       "\n",
       "                                                note  \\\n",
       "0  Flora Danica Hft. 1, Tab. 1\\n\\nFigur 1\\nLatins...   \n",
       "1  Flora Danica Hft. 1, Tab. 2\\n\\nFigur 1\\nLatins...   \n",
       "\n",
       "                                     taxonomic_group  \\\n",
       "0  Digitale Samlinger: Digitale Samlinger: Billed...   \n",
       "1  Digitale Samlinger: Digitale Samlinger: Billed...   \n",
       "\n",
       "                                               issue copyright    author_st  \\\n",
       "0  Digitale Samlinger: Billeder:Særudgivelser:Flo...      free  G. C. Oeder   \n",
       "1  Digitale Samlinger: Billeder:Særudgivelser:Flo...      free  G. C. Oeder   \n",
       "\n",
       "  issue_st taxonomic_group_st  \n",
       "0  Hft.  1         Karplanter  \n",
       "1  Hft.  1         Karplanter  "
      ]
     },
     "execution_count": 36,
     "metadata": {},
     "output_type": "execute_result"
    }
   ],
   "source": [
    "def clean_issue(text_string_in):\n",
    "    text_string_out = text_string_in.replace('Digitale Samlinger: Billeder:Særudgivelser:Flora Danica:Hæfte:', '')\n",
    "    return text_string_out\n",
    "\n",
    "\n",
    "df_w_year_author['issue_st'] = df_w_year_author['issue'].apply( lambda x : clean_issue(x))\n",
    "df_w_year_author.head(2)"
   ]
  },
  {
   "cell_type": "markdown",
   "id": "7135f86a-a30e-4cf4-8233-bde017b04830",
   "metadata": {},
   "source": [
    "## Kolonnenavn: taxonomic_group  \n",
    "Værdierne i kolonnen er lidt rodede.\n",
    "\n",
    "De indeholder både oplysninger om navnet på samlingen og oplysninger om den taksonomiske gruppe, som planten på billedet tilhører."
   ]
  },
  {
   "cell_type": "code",
   "execution_count": 12,
   "id": "8f30b2f8-a742-42ba-b97e-4ac3f060ff76",
   "metadata": {},
   "outputs": [
    {
     "data": {
      "text/plain": [
       "'Digitale Samlinger: Digitale Samlinger: Billeder:Særudgivelser:Flora Danica:Taxonomisk gruppe:Karplanter'"
      ]
     },
     "execution_count": 12,
     "metadata": {},
     "output_type": "execute_result"
    }
   ],
   "source": [
    "df_w_year_author.at[0, 'taxonomic_group']"
   ]
  },
  {
   "cell_type": "markdown",
   "id": "507cdfb2-fa91-45ec-ad1d-098af247a995",
   "metadata": {},
   "source": [
    "## Uddrag de relevante oplysninger og tilføj dem til en ny kolonne\n",
    "\n",
    "Den egentlige information om taksonomi ville være \"Karplanter\", mens resten af tekststrengen kan betragtes som støj.\n",
    "\n",
    "Lad os prøve at udtrække de relevante data og tilføje dem til en ny kolonne."
   ]
  },
  {
   "cell_type": "code",
   "execution_count": 13,
   "id": "32fac319-2360-485e-a13d-d4d9eb8eb3d5",
   "metadata": {},
   "outputs": [
    {
     "data": {
      "text/plain": [
       "'Karplanter'"
      ]
     },
     "execution_count": 13,
     "metadata": {},
     "output_type": "execute_result"
    }
   ],
   "source": [
    "# Tilgå en enkelt værdi\n",
    "S = df_w_year_author.at[0, 'taxonomic_group']\n",
    "# Split på ':' og tag listens sidste element (den information som vi egentlig ønsker)\n",
    "group_val = S.split(':')[-1]\n",
    "group_val"
   ]
  },
  {
   "cell_type": "markdown",
   "id": "77ef243e-1ae3-435c-a5d2-01115d30b83e",
   "metadata": {},
   "source": [
    "Nu skriver vi en funktion og benytter den til at dataene og tilføje dem til en ny kolonne. Når vi inspicerer datasættet, ser det umiddelbart ud til, at de fleste planter tilhører taksonomigruppen \"Karplanter\"."
   ]
  },
  {
   "cell_type": "code",
   "execution_count": 14,
   "id": "59116373-08af-4281-939e-7cb9eea8ea12",
   "metadata": {},
   "outputs": [
    {
     "name": "stdout",
     "output_type": "stream",
     "text": [
      "taxonomic_group_st\n",
      "Karplanter           2073\n",
      "Svampe                391\n",
      "Mosser                331\n",
      "Alger                 228\n",
      "Laver                 163\n",
      "Slimsvampe             39\n",
      "Ukendt                 15\n",
      "Taxonomisk gruppe       1\n",
      "Lave                    1\n",
      "Name: count, dtype: int64\n"
     ]
    }
   ],
   "source": [
    "def get_taxonomy_data(S):\n",
    "    group_val = S.split(':')[-1]\n",
    "    return group_val\n",
    "\n",
    "\n",
    "df_w_year_author['taxonomic_group_st'] = df_w_year_author['taxonomic_group'].apply(lambda x:get_taxonomy_data(x))\n",
    "# Inspiser data i en den ny kolonne\n",
    "print (df_w_year_author['taxonomic_group_st'].value_counts())"
   ]
  },
  {
   "cell_type": "markdown",
   "id": "215005d3-735b-4ac3-a6dd-7337522b061d",
   "metadata": {},
   "source": [
    "## Kolonne copyright: modificer tekststreng\n",
    "\n",
    "Værdierne i kolonnen \"copyright\" alle sammen de samme. De består af en tekststreng, hvor der står \"Materialet er fri af ophavsret\".\n",
    "\n",
    "Lad os ændrer teksten til det kortere \"fri\"."
   ]
  },
  {
   "cell_type": "code",
   "execution_count": 15,
   "id": "b401219b-2102-4e35-ba79-d86afb4dec18",
   "metadata": {},
   "outputs": [
    {
     "name": "stdout",
     "output_type": "stream",
     "text": [
      "Materialet er fri af ophavsret\n",
      "fri\n"
     ]
    }
   ],
   "source": [
    "print (df_w_year_author.at[0, 'copyright'])\n",
    "\n",
    "text_string = df_w_year_author.at[0, 'copyright']\n",
    "new_text_string = text_string.replace('Materialet er fri af ophavsret', 'fri')\n",
    "print (new_text_string)"
   ]
  },
  {
   "cell_type": "code",
   "execution_count": 16,
   "id": "f8d231ee-5383-43a7-8fa6-e283461c7417",
   "metadata": {},
   "outputs": [],
   "source": [
    "def clean_copyright(S):\n",
    "    new_text_string  = S.replace('Materialet er fri af ophavsret', 'free')\n",
    "    return new_text_string\n",
    "\n",
    "\n",
    "df_w_year_author['copyright'] = df_w_year_author['copyright'].apply(lambda x : clean_copyright(x))"
   ]
  },
  {
   "cell_type": "markdown",
   "id": "07564233-2d70-4a2f-aec7-7e14b7165281",
   "metadata": {},
   "source": [
    "## Kolonnenavn: note\n",
    "\n",
    "Værdierne i datasættets andre kolonner har også flere værdier i andre kolonner. For eksempel i kolonnen 'note'. Lad os se nærmere på værdierne i den første række af denne kolonne."
   ]
  },
  {
   "cell_type": "code",
   "execution_count": 17,
   "id": "9f5cd157-0996-482b-87f1-3671319ff8f1",
   "metadata": {},
   "outputs": [
    {
     "name": "stdout",
     "output_type": "stream",
     "text": [
      "\n",
      "Note:\n",
      "Flora Danica Hft. 1, Tab. 1\n",
      "\n",
      "Figur 1\n",
      "Latinsk navn: Rubus chamaemorus L.\n",
      "Dansk slægtsnavn: Multebær\n",
      "Dansk familienavn: Rosenfamilien\n",
      "Latinsk familienavn: Rosaceae\n",
      "\n",
      "\n"
     ]
    }
   ],
   "source": [
    "print (f'\\nNote:\\n{df_w_year_author.at[0,\"note\"]}\\n\\n')"
   ]
  },
  {
   "cell_type": "markdown",
   "id": "19eb7dc2-2799-4ef6-b222-7304366d3120",
   "metadata": {},
   "source": [
    "Nedenfor bliver der læst data fra 'Note' kolonnen, og ved hjælp af regulære udtryk bliver der søgt efter specifikke oplysninger, nemlig det latinske familienavn, det latinske navn og lange nomenklatur. Funktionen `parse_notes` udtrækker dataen, og resultatet tilføjes som nye kolonner til den oprindelige DataFrame. \n"
   ]
  },
  {
   "cell_type": "code",
   "execution_count": 37,
   "id": "c3e7b430-8d44-41a1-a4f8-04e47739ab8e",
   "metadata": {},
   "outputs": [
    {
     "name": "stdout",
     "output_type": "stream",
     "text": [
      "Find relevant data i værdierne i kolonnen \"note\"\n",
      "Færdig\n",
      "Sammenkæd dataen med den oprindelige dataframe\n",
      "Færdig. Dataframens form: (3242, 16)\n"
     ]
    }
   ],
   "source": [
    "# Funktion der finder de relevant data fra værdierne i kolonnen 'note' \n",
    "print ('Find relevant data i værdierne i kolonnen \"note\"')\n",
    "def parse_notes(note):\n",
    "    # Start med default værdier\n",
    "    latinsk_familienavn = None\n",
    "    latinsk_navn = None\n",
    "    lange_nomenklator = None\n",
    "\n",
    "    # Regular udtryk, der finder relevant information\n",
    "    latinsk_familienavn_pattern = r'Latinsk familienavn:\\s*(.*)'\n",
    "    latinsk_navn_pattern = r'Latinsk navn:\\s*(.*)'\n",
    "    lange_nomenklator_pattern = r'Lange nomenklator:\\s*(.*)'\n",
    "\n",
    "    # Søg efter relevant information\n",
    "    latinsk_familienavn_match = re.search(latinsk_familienavn_pattern, note)\n",
    "    if latinsk_familienavn_match:\n",
    "        latinsk_familienavn = latinsk_familienavn_match.group(1).strip()\n",
    "\n",
    "    latinsk_navn_match = re.search(latinsk_navn_pattern, note)\n",
    "    if latinsk_navn_match:\n",
    "        latinsk_navn = latinsk_navn_match.group(1).strip()\n",
    "\n",
    "    lange_nomenklator_match = re.search(lange_nomenklator_pattern, note)\n",
    "    if lange_nomenklator_match:\n",
    "        lange_nomenklator = lange_nomenklator_match.group(1).strip()\n",
    "\n",
    "    # Kombiner Latinsk navn and Lange nomenklator\n",
    "    combined_latinsk_navn = latinsk_navn if latinsk_navn != '-' else lange_nomenklator\n",
    "\n",
    "    return latinsk_familienavn, combined_latinsk_navn\n",
    "\n",
    "# Applicer funktionen til dataframen\n",
    "parsed_data = df['note'].apply(parse_notes)\n",
    "df_parsed = pd.DataFrame(parsed_data.tolist(), columns=['latin_family_name', 'latin_name'])\n",
    "print ('Færdig')\n",
    "\n",
    "# Saml data i \"Note\" kolonnen til en dataframe\n",
    "print ('Sammenkæd dataen med den oprindelige dataframe')\n",
    "concat_df = pd.concat([df_w_year_author,df_parsed], axis=1)\n",
    "print (f'Færdig. Dataframens form: {concat_df.shape}')"
   ]
  },
  {
   "cell_type": "markdown",
   "id": "c4fe6481-39c1-470b-b8eb-5379dc996380",
   "metadata": {},
   "source": [
    "## Opret et \"del-datasæt\" og gem det som en CSV fil\n",
    " \n",
    "Datasættet er renere og mere velorganiseret end før. \n",
    "\n",
    "Det er lettere for os at bruge det til analyse og visualiseringer. \n",
    "\n",
    "Dog er det kun nogle af kolonnerne, vi behøver i det videre arbejde. Derfor udvælger jeg nogle af kolonnerne til mit \"del-datasæt\", som jeg gemmer, som en CSV-fil."
   ]
  },
  {
   "cell_type": "code",
   "execution_count": 24,
   "id": "7fb51e0e-16dc-4642-b81a-46a81b3c92e2",
   "metadata": {},
   "outputs": [],
   "source": [
    "subset_df = concat_df[['table_no', 'record_name', 'title', 'year', 'author_st', 'taxonomic_group_st', 'issue', 'latin_family_name', 'latin_name', 'copyright']]\n",
    "subset_df.to_csv(r'.\\mekuni_flora_danica_data\\flora_danica_tidy_format.csv', index=False)"
   ]
  }
 ],
 "metadata": {
  "kernelspec": {
   "display_name": "Python 3 (ipykernel)",
   "language": "python",
   "name": "python3"
  },
  "language_info": {
   "codemirror_mode": {
    "name": "ipython",
    "version": 3
   },
   "file_extension": ".py",
   "mimetype": "text/x-python",
   "name": "python",
   "nbconvert_exporter": "python",
   "pygments_lexer": "ipython3",
   "version": "3.9.21"
  }
 },
 "nbformat": 4,
 "nbformat_minor": 5
}
