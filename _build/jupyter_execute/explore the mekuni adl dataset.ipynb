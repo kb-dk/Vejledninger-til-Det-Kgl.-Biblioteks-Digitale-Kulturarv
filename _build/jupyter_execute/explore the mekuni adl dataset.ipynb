{
 "cells": [
  {
   "cell_type": "markdown",
   "id": "2e0af4a1-e2e8-400e-a78e-5b2e788aa030",
   "metadata": {},
   "source": [
    "# Explore the mekuni adl dataset"
   ]
  },
  {
   "cell_type": "code",
   "execution_count": 1,
   "id": "c4130eef-ec16-49d3-b1fb-b6c6ae0c1cda",
   "metadata": {},
   "outputs": [],
   "source": [
    "## Import modules\n",
    "import pandas as pd\n",
    "from bs4 import BeautifulSoup as bs\n",
    "import os\n",
    "import re\n",
    "from collections import Counter\n",
    "import math\n",
    "import matplotlib.pyplot as plt"
   ]
  },
  {
   "cell_type": "markdown",
   "id": "9d2fd8d1-7320-4b42-8d9d-135ab2dbb311",
   "metadata": {},
   "source": [
    "### Read the CSV file\n",
    "\n",
    "Load the dataset from a CSV file into a pandas DataFrame\n"
   ]
  },
  {
   "cell_type": "code",
   "execution_count": 2,
   "id": "1a3b3fe0-16f3-47c0-a80a-2826590e758b",
   "metadata": {},
   "outputs": [],
   "source": [
    "df = pd.read_csv('adl_dataset_metadata.csv', encoding='utf')"
   ]
  },
  {
   "cell_type": "code",
   "execution_count": 3,
   "id": "e04b5e33-0a3c-42da-bf1c-3d253366512a",
   "metadata": {},
   "outputs": [
    {
     "data": {
      "text/html": [
       "<div>\n",
       "<style scoped>\n",
       "    .dataframe tbody tr th:only-of-type {\n",
       "        vertical-align: middle;\n",
       "    }\n",
       "\n",
       "    .dataframe tbody tr th {\n",
       "        vertical-align: top;\n",
       "    }\n",
       "\n",
       "    .dataframe thead th {\n",
       "        text-align: right;\n",
       "    }\n",
       "</style>\n",
       "<table border=\"1\" class=\"dataframe\">\n",
       "  <thead>\n",
       "    <tr style=\"text-align: right;\">\n",
       "      <th></th>\n",
       "      <th>title</th>\n",
       "      <th>place</th>\n",
       "      <th>year</th>\n",
       "      <th>author</th>\n",
       "      <th>birth_year</th>\n",
       "      <th>death_year</th>\n",
       "      <th>xml_file_name</th>\n",
       "      <th>url</th>\n",
       "    </tr>\n",
       "  </thead>\n",
       "  <tbody>\n",
       "    <tr>\n",
       "      <th>0</th>\n",
       "      <td>Bondens Søn ; Vadmelsfolk ; Vredens Børn. - 1919.</td>\n",
       "      <td>København</td>\n",
       "      <td>1918</td>\n",
       "      <td>Aakjær, Jeppe.</td>\n",
       "      <td>1866</td>\n",
       "      <td>1930</td>\n",
       "      <td>aakjaer06val.xml</td>\n",
       "      <td>https://tekster.kb.dk/text/adl-texts-aakjaer06...</td>\n",
       "    </tr>\n",
       "    <tr>\n",
       "      <th>1</th>\n",
       "      <td>Digte 1885-1908. - 1918.</td>\n",
       "      <td>København</td>\n",
       "      <td>1918</td>\n",
       "      <td>Aakjær, Jeppe.</td>\n",
       "      <td>1866</td>\n",
       "      <td>1930</td>\n",
       "      <td>aakjaer01val.xml</td>\n",
       "      <td>https://tekster.kb.dk/text/adl-texts-aakjaer01...</td>\n",
       "    </tr>\n",
       "  </tbody>\n",
       "</table>\n",
       "</div>"
      ],
      "text/plain": [
       "                                               title      place  year  \\\n",
       "0  Bondens Søn ; Vadmelsfolk ; Vredens Børn. - 1919.  København  1918   \n",
       "1                           Digte 1885-1908. - 1918.  København  1918   \n",
       "\n",
       "           author  birth_year  death_year     xml_file_name  \\\n",
       "0  Aakjær, Jeppe.        1866        1930  aakjaer06val.xml   \n",
       "1  Aakjær, Jeppe.        1866        1930  aakjaer01val.xml   \n",
       "\n",
       "                                                 url  \n",
       "0  https://tekster.kb.dk/text/adl-texts-aakjaer06...  \n",
       "1  https://tekster.kb.dk/text/adl-texts-aakjaer01...  "
      ]
     },
     "execution_count": 3,
     "metadata": {},
     "output_type": "execute_result"
    }
   ],
   "source": [
    "df.head(2)"
   ]
  },
  {
   "cell_type": "markdown",
   "id": "06d4c80f-48fb-4219-97a6-01017148d77c",
   "metadata": {},
   "source": [
    "### Build BeautifulSoup elements from the XML data"
   ]
  },
  {
   "cell_type": "code",
   "execution_count": 4,
   "id": "0e10f7c1-fb72-4241-99cd-63f8fe52e527",
   "metadata": {},
   "outputs": [],
   "source": [
    "# Extract the list of XML file names from the DataFrame\n",
    "xml_file_names = df['xml_file_name'].to_list()\n",
    "\n",
    "# Function to read an XML file and parse it using BeautifulSoup\n",
    "def get_xml_file(file):\n",
    "\n",
    "    try:\n",
    "    \n",
    "        file_path = r'./adl_xml_files_sample_set/' + file\n",
    "    \n",
    "        with open(file_path, 'r', encoding='utf-8') as file:\n",
    "            xml_content = file.read()\n",
    "    \n",
    "        soup = bs(xml_content, 'lxml-xml')\n",
    "    \n",
    "        return soup\n",
    "\n",
    "    except FileNotFoundError:\n",
    "        pass\n",
    "\n",
    "# Create a list of BeautifulSoup objects for each XML file\n",
    "xml_soups = [get_xml_file(file) for file in xml_file_names ]\n",
    "\n",
    "# Create a new DataFrame with XML file names and their corresponding BeautifulSoup objects\n",
    "df_soup = pd.DataFrame({'xml_file_name': xml_file_names,\n",
    "                       'soup': xml_soups})\n",
    "\n",
    "df_soup =  df_soup.dropna()"
   ]
  },
  {
   "cell_type": "markdown",
   "id": "905b8eea-2036-4eb1-953b-eca72a282281",
   "metadata": {},
   "source": [
    "## Parse data from xml\n",
    "\n",
    "The data in the column \"soup\" is beautifulsoup elements, and we can parse the text data inside the different tags using the beautifulsoup methods find_all and get_text.\n",
    "Skimming the soup / xml I found that first parsing the body tags and second from the \"body\" tags parse the \"\"p\" and \"l\" tags would give us most of the relevant text data leaving a lot of the editor notes out. "
   ]
  },
  {
   "cell_type": "code",
   "execution_count": 5,
   "id": "bb2e7336-9c45-4236-9436-f00f6f7938db",
   "metadata": {},
   "outputs": [],
   "source": [
    "# Build a function to extract text data from specific tags (body, p, and l)  within the XML\n",
    "def get_text_from_body_tags(s):\n",
    "    body_tags = s.find_all(['body']) \n",
    "    p_l_tags = [i.find_all(['p', 'l']) for i in body_tags]\n",
    "    p_l_tags = [i for y in p_l_tags for i in y]\n",
    "    text = [i.get_text() for i in p_l_tags]\n",
    "    text = ' '.join(text).replace('\\n', ' ').replace('\\t', ' ')\n",
    "    text = re.sub(r'\\s+', ' ', text)\n",
    "    return text\n",
    "\n",
    "# Apply the function to extract text and store it in a new column\n",
    "df_soup['text'] = df_soup['soup'].apply(lambda s : get_text_from_body_tags(s))"
   ]
  },
  {
   "cell_type": "code",
   "execution_count": 6,
   "id": "c282d9da-a830-439c-b93e-81397abfdc11",
   "metadata": {},
   "outputs": [
    {
     "data": {
      "text/html": [
       "<div>\n",
       "<style scoped>\n",
       "    .dataframe tbody tr th:only-of-type {\n",
       "        vertical-align: middle;\n",
       "    }\n",
       "\n",
       "    .dataframe tbody tr th {\n",
       "        vertical-align: top;\n",
       "    }\n",
       "\n",
       "    .dataframe thead th {\n",
       "        text-align: right;\n",
       "    }\n",
       "</style>\n",
       "<table border=\"1\" class=\"dataframe\">\n",
       "  <thead>\n",
       "    <tr style=\"text-align: right;\">\n",
       "      <th></th>\n",
       "      <th>xml_file_name</th>\n",
       "      <th>soup</th>\n",
       "      <th>text</th>\n",
       "    </tr>\n",
       "  </thead>\n",
       "  <tbody>\n",
       "    <tr>\n",
       "      <th>3</th>\n",
       "      <td>bagger01val.xml</td>\n",
       "      <td>[[\\n, [\\n, &lt;fileDesc xml:id=\"idm14062153911272...</td>\n",
       "      <td>Og hvorfor vil I vel skilles ad, Kan Kjærlighe...</td>\n",
       "    </tr>\n",
       "    <tr>\n",
       "      <th>4</th>\n",
       "      <td>baggesen01val.xml</td>\n",
       "      <td>[[\\n, [\\n, &lt;fileDesc xml:id=\"idm13989371598203...</td>\n",
       "      <td>F ortvivlelse! dig helliges min Sang, Og den, ...</td>\n",
       "    </tr>\n",
       "  </tbody>\n",
       "</table>\n",
       "</div>"
      ],
      "text/plain": [
       "       xml_file_name                                               soup  \\\n",
       "3    bagger01val.xml  [[\\n, [\\n, <fileDesc xml:id=\"idm14062153911272...   \n",
       "4  baggesen01val.xml  [[\\n, [\\n, <fileDesc xml:id=\"idm13989371598203...   \n",
       "\n",
       "                                                text  \n",
       "3  Og hvorfor vil I vel skilles ad, Kan Kjærlighe...  \n",
       "4  F ortvivlelse! dig helliges min Sang, Og den, ...  "
      ]
     },
     "execution_count": 6,
     "metadata": {},
     "output_type": "execute_result"
    }
   ],
   "source": [
    "df_soup.head(2)"
   ]
  },
  {
   "cell_type": "markdown",
   "id": "7a381fba-026e-4df7-9ee9-adbd03aa3370",
   "metadata": {},
   "source": [
    "## Combine the data \n",
    "Now I can combine data by merging the two dataframes; df and df_soup. \n",
    "\n",
    "The column soup is now longer usefull, so I choose to drop it from the dataframe."
   ]
  },
  {
   "cell_type": "code",
   "execution_count": 7,
   "id": "8bee6c51-fc84-4e15-b2d0-eb7acfd691b1",
   "metadata": {},
   "outputs": [
    {
     "data": {
      "text/html": [
       "<div>\n",
       "<style scoped>\n",
       "    .dataframe tbody tr th:only-of-type {\n",
       "        vertical-align: middle;\n",
       "    }\n",
       "\n",
       "    .dataframe tbody tr th {\n",
       "        vertical-align: top;\n",
       "    }\n",
       "\n",
       "    .dataframe thead th {\n",
       "        text-align: right;\n",
       "    }\n",
       "</style>\n",
       "<table border=\"1\" class=\"dataframe\">\n",
       "  <thead>\n",
       "    <tr style=\"text-align: right;\">\n",
       "      <th></th>\n",
       "      <th>title</th>\n",
       "      <th>place</th>\n",
       "      <th>year</th>\n",
       "      <th>author</th>\n",
       "      <th>birth_year</th>\n",
       "      <th>death_year</th>\n",
       "      <th>xml_file_name</th>\n",
       "      <th>url</th>\n",
       "      <th>text</th>\n",
       "    </tr>\n",
       "  </thead>\n",
       "  <tbody>\n",
       "    <tr>\n",
       "      <th>3</th>\n",
       "      <td>Udvalgte Skrifter.</td>\n",
       "      <td>København</td>\n",
       "      <td>1928</td>\n",
       "      <td>Bagger, Carl.</td>\n",
       "      <td>1807</td>\n",
       "      <td>1846</td>\n",
       "      <td>bagger01val.xml</td>\n",
       "      <td>https://tekster.kb.dk/text/adl-texts-bagger01v...</td>\n",
       "      <td>Og hvorfor vil I vel skilles ad, Kan Kjærlighe...</td>\n",
       "    </tr>\n",
       "    <tr>\n",
       "      <th>4</th>\n",
       "      <td>Eventyr og Fortællinger. - 1889.</td>\n",
       "      <td>København</td>\n",
       "      <td>1889</td>\n",
       "      <td>Baggesen, Jens.</td>\n",
       "      <td>1764</td>\n",
       "      <td>1826</td>\n",
       "      <td>baggesen01val.xml</td>\n",
       "      <td>https://tekster.kb.dk/text/adl-texts-baggesen0...</td>\n",
       "      <td>F ortvivlelse! dig helliges min Sang, Og den, ...</td>\n",
       "    </tr>\n",
       "  </tbody>\n",
       "</table>\n",
       "</div>"
      ],
      "text/plain": [
       "                              title      place  year           author  \\\n",
       "3                Udvalgte Skrifter.  København  1928    Bagger, Carl.   \n",
       "4  Eventyr og Fortællinger. - 1889.  København  1889  Baggesen, Jens.   \n",
       "\n",
       "   birth_year  death_year      xml_file_name  \\\n",
       "3        1807        1846    bagger01val.xml   \n",
       "4        1764        1826  baggesen01val.xml   \n",
       "\n",
       "                                                 url  \\\n",
       "3  https://tekster.kb.dk/text/adl-texts-bagger01v...   \n",
       "4  https://tekster.kb.dk/text/adl-texts-baggesen0...   \n",
       "\n",
       "                                                text  \n",
       "3  Og hvorfor vil I vel skilles ad, Kan Kjærlighe...  \n",
       "4  F ortvivlelse! dig helliges min Sang, Og den, ...  "
      ]
     },
     "execution_count": 7,
     "metadata": {},
     "output_type": "execute_result"
    }
   ],
   "source": [
    "# Merge the original DataFrame with the new DataFrame containing parsed text\n",
    "\n",
    "mekuni_adl_dataset = pd.merge(df , df_soup, how='left', on='xml_file_name')\n",
    "\n",
    "# Drop the 'soup' column as it is no longer needed\n",
    "mekuni_adl_dataset.drop(columns=['soup'], inplace=True)\n",
    "mekuni_adl_dataset = mekuni_adl_dataset.dropna()\n",
    "\n",
    "mekuni_adl_dataset.head(2)"
   ]
  },
  {
   "cell_type": "markdown",
   "id": "a9c072fe-a0f3-49a5-925d-8232e73b0886",
   "metadata": {},
   "source": [
    "## Clean the text\n",
    "\n",
    "To get more uniform text data I use regex methods. I use .findall() to find all data between word bounderies that is not a whitespace. I use .sub() to avoid numbers, words containing numbers, words with a lenght of 1 or 2; and any sequences of more than one whitespaces. Finaly I lower the letters and returns the clean text. "
   ]
  },
  {
   "cell_type": "code",
   "execution_count": 8,
   "id": "6c09c4f3-c674-44f8-89b4-ebfbfa48ec41",
   "metadata": {},
   "outputs": [],
   "source": [
    "# Make a function to clean the text using regular expressions\n",
    "def clean(text): \n",
    "    \n",
    "    text = ' '.join(re.findall(r'\\b\\S+\\b', text))\n",
    "\n",
    "    # Remove numbers and words containing numbers\n",
    "    text = re.sub(r'\\b\\w*\\d\\w*\\b', '', text)\n",
    "    \n",
    "    # Remove short words (length 1 or 2)\n",
    "    text = re.sub(r'\\b\\w{1,2}\\b', '', text)\n",
    "    \n",
    "    # Remove extra whitespace\n",
    "    text = re.sub(r'\\s+', ' ', text) \n",
    "\n",
    "    # Convert text to lowercase\n",
    "    text = text.lower()\n",
    "\n",
    "    # return the text\n",
    "    return text\n",
    "    \n",
    "# Apply the cleaning function to the text column\n",
    "mekuni_adl_dataset['clean_text'] = mekuni_adl_dataset['text'].apply(lambda x: clean(x))"
   ]
  },
  {
   "cell_type": "markdown",
   "id": "629d0612-059d-4ce9-a483-1ef04c05391d",
   "metadata": {},
   "source": [
    "## Remove stopwords\n",
    "\n",
    "I want to apply a collocation tool downstream, and in that I do not wish to include stopword, so I choose to make new text strings without stopwords, to be able to get better results out of a my collocation analysis.\n",
    "\n",
    "I the folder \"stopwords\" I have a txt file with stopwords. I read the txt into the script, make it into a list, and with the make place for adding additional stuff to the list. "
   ]
  },
  {
   "cell_type": "code",
   "execution_count": 9,
   "id": "580f0068-f116-484d-99dd-154f398ffc80",
   "metadata": {},
   "outputs": [],
   "source": [
    "# Load a list of danish stopwords from a text file\n",
    "sw_file = r'stopwords/adl_dataset_stopwords.txt'\n",
    "\n",
    "with open(sw_file, 'r', encoding='utf-8') as f:\n",
    "    stop_words = f.read().split()\n",
    "    # Add additional stopwords\n",
    "    stop_words.extend(['_', '/', \"'\"])\n",
    "\n",
    "# Define a function to remove stopwords from the text\n",
    "def remove_stopwords(clean_text):   \n",
    "    # Change text to wordlist\n",
    "    tokens = clean_text.split()\n",
    "    tokens_wo_stopwords = [i for i in tokens if i.lower() not in stop_words]\n",
    "    clean_text_wo_stopwords = ' '.join(tokens_wo_stopwords)\n",
    "    return clean_text_wo_stopwords\n",
    "\n",
    "# Apply the stopword removal function\n",
    "mekuni_adl_dataset['clean_text_wo_stopwords'] = mekuni_adl_dataset['clean_text'].apply( lambda x : remove_stopwords(x))"
   ]
  },
  {
   "cell_type": "code",
   "execution_count": 10,
   "id": "fc2dc330-f13a-40d6-b315-0dfe7a5705c6",
   "metadata": {},
   "outputs": [
    {
     "data": {
      "text/html": [
       "<div>\n",
       "<style scoped>\n",
       "    .dataframe tbody tr th:only-of-type {\n",
       "        vertical-align: middle;\n",
       "    }\n",
       "\n",
       "    .dataframe tbody tr th {\n",
       "        vertical-align: top;\n",
       "    }\n",
       "\n",
       "    .dataframe thead th {\n",
       "        text-align: right;\n",
       "    }\n",
       "</style>\n",
       "<table border=\"1\" class=\"dataframe\">\n",
       "  <thead>\n",
       "    <tr style=\"text-align: right;\">\n",
       "      <th></th>\n",
       "      <th>title</th>\n",
       "      <th>place</th>\n",
       "      <th>year</th>\n",
       "      <th>author</th>\n",
       "      <th>birth_year</th>\n",
       "      <th>death_year</th>\n",
       "      <th>xml_file_name</th>\n",
       "      <th>url</th>\n",
       "      <th>text</th>\n",
       "      <th>clean_text</th>\n",
       "      <th>clean_text_wo_stopwords</th>\n",
       "    </tr>\n",
       "  </thead>\n",
       "  <tbody>\n",
       "    <tr>\n",
       "      <th>3</th>\n",
       "      <td>Udvalgte Skrifter.</td>\n",
       "      <td>København</td>\n",
       "      <td>1928</td>\n",
       "      <td>Bagger, Carl.</td>\n",
       "      <td>1807</td>\n",
       "      <td>1846</td>\n",
       "      <td>bagger01val.xml</td>\n",
       "      <td>https://tekster.kb.dk/text/adl-texts-bagger01v...</td>\n",
       "      <td>Og hvorfor vil I vel skilles ad, Kan Kjærlighe...</td>\n",
       "      <td>hvorfor vil vel skilles kan kjærlighed skifte...</td>\n",
       "      <td>skilles kjærlighed skiftes had harmfuldt sind ...</td>\n",
       "    </tr>\n",
       "    <tr>\n",
       "      <th>4</th>\n",
       "      <td>Eventyr og Fortællinger. - 1889.</td>\n",
       "      <td>København</td>\n",
       "      <td>1889</td>\n",
       "      <td>Baggesen, Jens.</td>\n",
       "      <td>1764</td>\n",
       "      <td>1826</td>\n",
       "      <td>baggesen01val.xml</td>\n",
       "      <td>https://tekster.kb.dk/text/adl-texts-baggesen0...</td>\n",
       "      <td>F ortvivlelse! dig helliges min Sang, Og den, ...</td>\n",
       "      <td>ortvivlelse dig helliges min sang den som hæn...</td>\n",
       "      <td>ortvivlelse helliges sang hænger hang hænge ør...</td>\n",
       "    </tr>\n",
       "  </tbody>\n",
       "</table>\n",
       "</div>"
      ],
      "text/plain": [
       "                              title      place  year           author  \\\n",
       "3                Udvalgte Skrifter.  København  1928    Bagger, Carl.   \n",
       "4  Eventyr og Fortællinger. - 1889.  København  1889  Baggesen, Jens.   \n",
       "\n",
       "   birth_year  death_year      xml_file_name  \\\n",
       "3        1807        1846    bagger01val.xml   \n",
       "4        1764        1826  baggesen01val.xml   \n",
       "\n",
       "                                                 url  \\\n",
       "3  https://tekster.kb.dk/text/adl-texts-bagger01v...   \n",
       "4  https://tekster.kb.dk/text/adl-texts-baggesen0...   \n",
       "\n",
       "                                                text  \\\n",
       "3  Og hvorfor vil I vel skilles ad, Kan Kjærlighe...   \n",
       "4  F ortvivlelse! dig helliges min Sang, Og den, ...   \n",
       "\n",
       "                                          clean_text  \\\n",
       "3   hvorfor vil vel skilles kan kjærlighed skifte...   \n",
       "4   ortvivlelse dig helliges min sang den som hæn...   \n",
       "\n",
       "                             clean_text_wo_stopwords  \n",
       "3  skilles kjærlighed skiftes had harmfuldt sind ...  \n",
       "4  ortvivlelse helliges sang hænger hang hænge ør...  "
      ]
     },
     "execution_count": 10,
     "metadata": {},
     "output_type": "execute_result"
    }
   ],
   "source": [
    "mekuni_adl_dataset.head(2)"
   ]
  },
  {
   "cell_type": "markdown",
   "id": "9eaca7bf-0346-4670-b21f-f531aaf7b429",
   "metadata": {},
   "source": [
    "## Collocation\n",
    "Add or replace the keywords with your own words."
   ]
  },
  {
   "cell_type": "code",
   "execution_count": 11,
   "id": "9e09b424-00ba-4ac5-af08-d35f4ba7bd7d",
   "metadata": {},
   "outputs": [],
   "source": [
    "# Define keywords for collocation analysis\n",
    "keywords = ['fader', 'moder', 'barn']\n",
    "\n",
    "in_data_list = ' '.join(mekuni_adl_dataset['clean_text_wo_stopwords']).split()\n",
    "\n",
    "# Initialize a dictionary to count keyword proximities\n",
    "keyword_proximity_counts = {keyword: Counter() for keyword in keywords}\n",
    "window_size = 10\n",
    "\n",
    "# Count the proximity of words around each keyword\n",
    "for i, token in enumerate(in_data_list):\n",
    "    if token in keywords:\n",
    "        # Define the window around the keyword\n",
    "        start = max(0, i - window_size)\n",
    "        end = min(len(in_data_list), i + window_size + 1)\n",
    "        # Count terms in the window, excluding the keyword itself\n",
    "        for j in range(start, end):\n",
    "            if j != i:\n",
    "                keyword_proximity_counts[token][in_data_list[j]] += 1\n",
    "\n",
    "# Filter out terms with low counts\n",
    "filtered_keyword_proximity_counts = {\n",
    "    keyword: Counter({term: count for term, count in counts.items() if count >= 80})\n",
    "    for keyword, counts in keyword_proximity_counts.items()}"
   ]
  },
  {
   "cell_type": "markdown",
   "id": "e3ccb568-916c-46ae-864d-6f31137e53dc",
   "metadata": {},
   "source": [
    "## Visualise the collocations\n",
    "If I print the content of the variable \"filtered_keyword_proximity_counts\" we can watch the different keywords together with the collocations. It is the collocations that exists after we have removed stopwords and defined a window size of 10. It can be a bit confusing to watch the data in the printed format, so I chose to use math plot lib to visualise the colllocations with bar plots.  "
   ]
  },
  {
   "cell_type": "code",
   "execution_count": 12,
   "id": "0166e3f7-f6f3-46a4-a2f6-327fe5b39794",
   "metadata": {},
   "outputs": [
    {
     "data": {
      "image/png": "[encoded data removed]",
      "text/plain": [
       "<Figure size 1000x600 with 1 Axes>"
      ]
     },
     "metadata": {},
     "output_type": "display_data"
    },
    {
     "data": {
      "image/png": "[encoded data removed]",
      "text/plain": [
       "<Figure size 1000x600 with 1 Axes>"
      ]
     },
     "metadata": {},
     "output_type": "display_data"
    },
    {
     "data": {
      "image/png": "[encoded data removed]",
      "text/plain": [
       "<Figure size 1000x600 with 1 Axes>"
      ]
     },
     "metadata": {},
     "output_type": "display_data"
    }
   ],
   "source": [
    "# Convert each group's Counter to a DataFrame\n",
    "dfs = []\n",
    "for keyword, counter in filtered_keyword_proximity_counts.items():\n",
    "    df = pd.DataFrame(counter.items(), columns=['Word', 'Frequency'])\n",
    "    df['Keyword_Group'] = keyword\n",
    "    dfs.append(df)\n",
    "\n",
    "# Concatenate all dataframes\n",
    "all_data = pd.concat(dfs, ignore_index=True)\n",
    "\n",
    "# Create individual bar charts for each keyword group\n",
    "for keyword in filtered_keyword_proximity_counts.keys():\n",
    "    df_subset = all_data[all_data['Keyword_Group'] == keyword]\n",
    "    plt.figure(figsize=(10,6))\n",
    "    df_subset = df_subset.sort_values(by='Frequency', ascending=False).head(10)\n",
    "    plt.barh(df_subset['Word'], df_subset['Frequency'], color='skyblue')\n",
    "    plt.xlabel('Frequency')\n",
    "    plt.title(f'Top Words for \"{keyword}\"')\n",
    "    plt.gca().invert_yaxis()\n",
    "    plt.tight_layout()\n",
    "    plt.show()\n"
   ]
  },
  {
   "cell_type": "code",
   "execution_count": null,
   "id": "7f951c95-136b-489e-8bd8-62728d98f67a",
   "metadata": {},
   "outputs": [],
   "source": []
  }
 ],
 "metadata": {
  "kernelspec": {
   "display_name": "Python 3 (ipykernel)",
   "language": "python",
   "name": "python3"
  },
  "language_info": {
   "codemirror_mode": {
    "name": "ipython",
    "version": 3
   },
   "file_extension": ".py",
   "mimetype": "text/x-python",
   "name": "python",
   "nbconvert_exporter": "python",
   "pygments_lexer": "ipython3",
   "version": "3.9.21"
  }
 },
 "nbformat": 4,
 "nbformat_minor": 5
}