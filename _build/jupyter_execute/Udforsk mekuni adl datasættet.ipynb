{
 "cells": [
  {
   "cell_type": "markdown",
   "id": "2e0af4a1-e2e8-400e-a78e-5b2e788aa030",
   "metadata": {},
   "source": [
    "# Udforsk mekuni adl datasættet"
   ]
  },
  {
   "cell_type": "code",
   "execution_count": 1,
   "id": "c29e0c5a-0dfe-4839-ba2a-25dd2e1028a0",
   "metadata": {},
   "outputs": [],
   "source": [
    "## Importer biblioteker\n",
    "import pandas as pd\n",
    "from bs4 import BeautifulSoup as bs\n",
    "import os\n",
    "import re\n",
    "from collections import Counter\n",
    "import math\n",
    "import matplotlib.pyplot as plt"
   ]
  },
  {
   "cell_type": "markdown",
   "id": "9d2fd8d1-7320-4b42-8d9d-135ab2dbb311",
   "metadata": {},
   "source": [
    "### Læs CSV-filen\n",
    "\n",
    "Indlæs datasættet fra en CSV-fil til en pandas DataFrame"
   ]
  },
  {
   "cell_type": "code",
   "execution_count": 2,
   "id": "a9422772-cf38-4c69-9c51-dbe3428f41db",
   "metadata": {},
   "outputs": [],
   "source": [
    "df = pd.read_csv('adl_dataset_metadata.csv', encoding='utf')"
   ]
  },
  {
   "cell_type": "code",
   "execution_count": 3,
   "id": "fc38b729-fe6f-4345-80af-7aa6cd46d54d",
   "metadata": {},
   "outputs": [
    {
     "data": {
      "text/html": [
       "<div>\n",
       "<style scoped>\n",
       "    .dataframe tbody tr th:only-of-type {\n",
       "        vertical-align: middle;\n",
       "    }\n",
       "\n",
       "    .dataframe tbody tr th {\n",
       "        vertical-align: top;\n",
       "    }\n",
       "\n",
       "    .dataframe thead th {\n",
       "        text-align: right;\n",
       "    }\n",
       "</style>\n",
       "<table border=\"1\" class=\"dataframe\">\n",
       "  <thead>\n",
       "    <tr style=\"text-align: right;\">\n",
       "      <th></th>\n",
       "      <th>title</th>\n",
       "      <th>place</th>\n",
       "      <th>year</th>\n",
       "      <th>author</th>\n",
       "      <th>birth_year</th>\n",
       "      <th>death_year</th>\n",
       "      <th>xml_file_name</th>\n",
       "      <th>url</th>\n",
       "    </tr>\n",
       "  </thead>\n",
       "  <tbody>\n",
       "    <tr>\n",
       "      <th>0</th>\n",
       "      <td>Bondens Søn ; Vadmelsfolk ; Vredens Børn. - 1919.</td>\n",
       "      <td>København</td>\n",
       "      <td>1918</td>\n",
       "      <td>Aakjær, Jeppe.</td>\n",
       "      <td>1866</td>\n",
       "      <td>1930</td>\n",
       "      <td>aakjaer06val.xml</td>\n",
       "      <td>https://tekster.kb.dk/text/adl-texts-aakjaer06...</td>\n",
       "    </tr>\n",
       "    <tr>\n",
       "      <th>1</th>\n",
       "      <td>Digte 1885-1908. - 1918.</td>\n",
       "      <td>København</td>\n",
       "      <td>1918</td>\n",
       "      <td>Aakjær, Jeppe.</td>\n",
       "      <td>1866</td>\n",
       "      <td>1930</td>\n",
       "      <td>aakjaer01val.xml</td>\n",
       "      <td>https://tekster.kb.dk/text/adl-texts-aakjaer01...</td>\n",
       "    </tr>\n",
       "  </tbody>\n",
       "</table>\n",
       "</div>"
      ],
      "text/plain": [
       "                                               title      place  year  \\\n",
       "0  Bondens Søn ; Vadmelsfolk ; Vredens Børn. - 1919.  København  1918   \n",
       "1                           Digte 1885-1908. - 1918.  København  1918   \n",
       "\n",
       "           author  birth_year  death_year     xml_file_name  \\\n",
       "0  Aakjær, Jeppe.        1866        1930  aakjaer06val.xml   \n",
       "1  Aakjær, Jeppe.        1866        1930  aakjaer01val.xml   \n",
       "\n",
       "                                                 url  \n",
       "0  https://tekster.kb.dk/text/adl-texts-aakjaer06...  \n",
       "1  https://tekster.kb.dk/text/adl-texts-aakjaer01...  "
      ]
     },
     "execution_count": 3,
     "metadata": {},
     "output_type": "execute_result"
    }
   ],
   "source": [
    "df.head(2)"
   ]
  },
  {
   "cell_type": "markdown",
   "id": "06d4c80f-48fb-4219-97a6-01017148d77c",
   "metadata": {},
   "source": [
    "### Byg BeautifulSoup-elementer ud fra XML-dataene"
   ]
  },
  {
   "cell_type": "code",
   "execution_count": 4,
   "id": "2ada5c4e-f9b2-4444-8fae-8cf4386bde57",
   "metadata": {},
   "outputs": [],
   "source": [
    "# Udtræk en liste af XML fil navne fra DataFrame\n",
    "xml_file_names = df['xml_file_name'].to_list()\n",
    "\n",
    "# Byg en funktion, der kan indlæse en XML fil med BeautifulSoup biblioteket\n",
    "def get_xml_file(file):\n",
    "\n",
    "    try:\n",
    "    \n",
    "        file_path = r'./adl_xml_files_sample_set/' + file\n",
    "    \n",
    "        with open(file_path, 'r', encoding='utf-8') as file:\n",
    "            xml_content = file.read()\n",
    "    \n",
    "        soup = bs(xml_content, 'lxml-xml')\n",
    "    \n",
    "        return soup\n",
    "\n",
    "    except FileNotFoundError:\n",
    "        pass\n",
    "\n",
    "# Lav en liste af BeautifulSoup objects for hver XML fil\n",
    "xml_soups = [get_xml_file(file) for file in xml_file_names ]\n",
    "\n",
    "# Lav en ny DataFrame med XML filnavne og deres tilhørenden BeautifulSoup objects\n",
    "df_soup = pd.DataFrame({'xml_file_name': xml_file_names,\n",
    "                       'soup': xml_soups})\n",
    "\n",
    "df_soup =  df_soup.dropna()"
   ]
  },
  {
   "cell_type": "markdown",
   "id": "905b8eea-2036-4eb1-953b-eca72a282281",
   "metadata": {},
   "source": [
    "## Parse data fra xml\n",
    "\n",
    "Dataen i kolonnen \"soup\" er BeautifulSoup-elementer, og vi kan parse tekstdata inde i de forskellige tags ved hjælp af BeautifulSoup-metoderne find_all og get_text.\n",
    "Gennemgang af soup / xml viste, at parsing af body-tags og efterfølgende parsing af \"p\" og \"l\" tags inde i \"body\"-tags ville give os mest af den relevante tekstdata, fordi det udelader størstedelen af redaktørnoterne."
   ]
  },
  {
   "cell_type": "code",
   "execution_count": 5,
   "id": "eb29d973-b990-4f0a-86f0-da38d475c6e1",
   "metadata": {},
   "outputs": [],
   "source": [
    "# Skriv en funktion der trækker text data ud fra specifikke tags (body, p, and l) i XML'en\n",
    "def get_text_from_body_tags(s):\n",
    "    body_tags = s.find_all(['body']) \n",
    "    p_l_tags = [i.find_all(['p', 'l']) for i in body_tags]\n",
    "    p_l_tags = [i for y in p_l_tags for i in y]\n",
    "    text = [i.get_text() for i in p_l_tags]\n",
    "    text = ' '.join(text).replace('\\n', ' ').replace('\\t', ' ')\n",
    "    text = re.sub(r'\\s+', ' ', text)\n",
    "    return text\n",
    "\n",
    "# Applicer funktionen, udtræk tekst og gem den som værdier i en ny kolonne\n",
    "df_soup['text'] = df_soup['soup'].apply(lambda s : get_text_from_body_tags(s))"
   ]
  },
  {
   "cell_type": "code",
   "execution_count": 6,
   "id": "9a86ea8e-5d5d-44c8-9a72-972cfc652e34",
   "metadata": {},
   "outputs": [
    {
     "data": {
      "text/html": [
       "<div>\n",
       "<style scoped>\n",
       "    .dataframe tbody tr th:only-of-type {\n",
       "        vertical-align: middle;\n",
       "    }\n",
       "\n",
       "    .dataframe tbody tr th {\n",
       "        vertical-align: top;\n",
       "    }\n",
       "\n",
       "    .dataframe thead th {\n",
       "        text-align: right;\n",
       "    }\n",
       "</style>\n",
       "<table border=\"1\" class=\"dataframe\">\n",
       "  <thead>\n",
       "    <tr style=\"text-align: right;\">\n",
       "      <th></th>\n",
       "      <th>xml_file_name</th>\n",
       "      <th>soup</th>\n",
       "      <th>text</th>\n",
       "    </tr>\n",
       "  </thead>\n",
       "  <tbody>\n",
       "    <tr>\n",
       "      <th>3</th>\n",
       "      <td>bagger01val.xml</td>\n",
       "      <td>[[\\n, [\\n, &lt;fileDesc xml:id=\"idm14062153911272...</td>\n",
       "      <td>Og hvorfor vil I vel skilles ad, Kan Kjærlighe...</td>\n",
       "    </tr>\n",
       "    <tr>\n",
       "      <th>4</th>\n",
       "      <td>baggesen01val.xml</td>\n",
       "      <td>[[\\n, [\\n, &lt;fileDesc xml:id=\"idm13989371598203...</td>\n",
       "      <td>F ortvivlelse! dig helliges min Sang, Og den, ...</td>\n",
       "    </tr>\n",
       "  </tbody>\n",
       "</table>\n",
       "</div>"
      ],
      "text/plain": [
       "       xml_file_name                                               soup  \\\n",
       "3    bagger01val.xml  [[\\n, [\\n, <fileDesc xml:id=\"idm14062153911272...   \n",
       "4  baggesen01val.xml  [[\\n, [\\n, <fileDesc xml:id=\"idm13989371598203...   \n",
       "\n",
       "                                                text  \n",
       "3  Og hvorfor vil I vel skilles ad, Kan Kjærlighe...  \n",
       "4  F ortvivlelse! dig helliges min Sang, Og den, ...  "
      ]
     },
     "execution_count": 6,
     "metadata": {},
     "output_type": "execute_result"
    }
   ],
   "source": [
    "df_soup.head(2)"
   ]
  },
  {
   "cell_type": "markdown",
   "id": "7a381fba-026e-4df7-9ee9-adbd03aa3370",
   "metadata": {},
   "source": [
    "## Kombiner data\n",
    "Nu kan jeg kombinere data ved at merge de to dataframes; df og df_soup.\n",
    "\n",
    "Kolonnen \"soup\" er nu mindre brugbar, så jeg vælger at droppe den fra dataframen."
   ]
  },
  {
   "cell_type": "code",
   "execution_count": 7,
   "id": "20c53837-964d-4a40-994c-132ae0617289",
   "metadata": {},
   "outputs": [
    {
     "data": {
      "text/html": [
       "<div>\n",
       "<style scoped>\n",
       "    .dataframe tbody tr th:only-of-type {\n",
       "        vertical-align: middle;\n",
       "    }\n",
       "\n",
       "    .dataframe tbody tr th {\n",
       "        vertical-align: top;\n",
       "    }\n",
       "\n",
       "    .dataframe thead th {\n",
       "        text-align: right;\n",
       "    }\n",
       "</style>\n",
       "<table border=\"1\" class=\"dataframe\">\n",
       "  <thead>\n",
       "    <tr style=\"text-align: right;\">\n",
       "      <th></th>\n",
       "      <th>title</th>\n",
       "      <th>place</th>\n",
       "      <th>year</th>\n",
       "      <th>author</th>\n",
       "      <th>birth_year</th>\n",
       "      <th>death_year</th>\n",
       "      <th>xml_file_name</th>\n",
       "      <th>url</th>\n",
       "      <th>text</th>\n",
       "    </tr>\n",
       "  </thead>\n",
       "  <tbody>\n",
       "    <tr>\n",
       "      <th>3</th>\n",
       "      <td>Udvalgte Skrifter.</td>\n",
       "      <td>København</td>\n",
       "      <td>1928</td>\n",
       "      <td>Bagger, Carl.</td>\n",
       "      <td>1807</td>\n",
       "      <td>1846</td>\n",
       "      <td>bagger01val.xml</td>\n",
       "      <td>https://tekster.kb.dk/text/adl-texts-bagger01v...</td>\n",
       "      <td>Og hvorfor vil I vel skilles ad, Kan Kjærlighe...</td>\n",
       "    </tr>\n",
       "    <tr>\n",
       "      <th>4</th>\n",
       "      <td>Eventyr og Fortællinger. - 1889.</td>\n",
       "      <td>København</td>\n",
       "      <td>1889</td>\n",
       "      <td>Baggesen, Jens.</td>\n",
       "      <td>1764</td>\n",
       "      <td>1826</td>\n",
       "      <td>baggesen01val.xml</td>\n",
       "      <td>https://tekster.kb.dk/text/adl-texts-baggesen0...</td>\n",
       "      <td>F ortvivlelse! dig helliges min Sang, Og den, ...</td>\n",
       "    </tr>\n",
       "  </tbody>\n",
       "</table>\n",
       "</div>"
      ],
      "text/plain": [
       "                              title      place  year           author  \\\n",
       "3                Udvalgte Skrifter.  København  1928    Bagger, Carl.   \n",
       "4  Eventyr og Fortællinger. - 1889.  København  1889  Baggesen, Jens.   \n",
       "\n",
       "   birth_year  death_year      xml_file_name  \\\n",
       "3        1807        1846    bagger01val.xml   \n",
       "4        1764        1826  baggesen01val.xml   \n",
       "\n",
       "                                                 url  \\\n",
       "3  https://tekster.kb.dk/text/adl-texts-bagger01v...   \n",
       "4  https://tekster.kb.dk/text/adl-texts-baggesen0...   \n",
       "\n",
       "                                                text  \n",
       "3  Og hvorfor vil I vel skilles ad, Kan Kjærlighe...  \n",
       "4  F ortvivlelse! dig helliges min Sang, Og den, ...  "
      ]
     },
     "execution_count": 7,
     "metadata": {},
     "output_type": "execute_result"
    }
   ],
   "source": [
    "# Forbind den oprindelige DataFrame med den ny DataFrame, der indeholder de tekster, som er udlæst af xlm filerne\n",
    "\n",
    "mekuni_adl_dataset = pd.merge(df , df_soup, how='left', on='xml_file_name')\n",
    "\n",
    "# Drop kollonen 'soup', fordi den skal ikke bruges mere\n",
    "mekuni_adl_dataset.drop(columns=['soup'], inplace=True)\n",
    "mekuni_adl_dataset = mekuni_adl_dataset.dropna()\n",
    "\n",
    "mekuni_adl_dataset.head(2)"
   ]
  },
  {
   "cell_type": "markdown",
   "id": "a9c072fe-a0f3-49a5-925d-8232e73b0886",
   "metadata": {},
   "source": [
    "## Rens teksten\n",
    "\n",
    "For at få mere ensartet tekstdata bruger jeg regex-metoder. Jeg bruger .findall() til at finde alt tekst mellem ordgrænser (\\b = word bounderies), der ikke er whitespace (altså mellemrum). Jeg bruger .sub() og et regex mønster for at undgå tal, ord indeholdende tal, ord med en længde på 1 eller 2; og enhver sekvens af mere end ét whitespace. Til sidst konverterer jeg alle bogstaver til små bogstaver og returnerer den rensede tekst ud af funnktionen."
   ]
  },
  {
   "cell_type": "code",
   "execution_count": 8,
   "id": "c59afde7-210a-44ab-98f2-40b266a4308e",
   "metadata": {},
   "outputs": [],
   "source": [
    "# En funktion til at rense teksten vha. regex-metoder\n",
    "def clean(text): \n",
    "\n",
    "    # .findall() metoden returer en liste. Derfor bruger jeg .join() til at samle listen til en string\n",
    "    text = ' '.join(re.findall(r'\\b\\S+\\b', text))\n",
    "\n",
    "    # Fjern tal og ord, der indeholder tal\n",
    "    text = re.sub(r'\\b\\w*\\d\\w*\\b', '', text)\n",
    "    \n",
    "    # Fjern korte ord (længde 1 eller 2)\n",
    "    text = re.sub(r'\\b\\w{1,2}\\b', '', text)\n",
    "    \n",
    "    # Fjern ekstra mellemrum (nogle gange opstår der ekstra mellemrum i rensning)\n",
    "    text = re.sub(r'\\s+', ' ', text) \n",
    "\n",
    "    # Konverter til små bogstaver\n",
    "    text = text.lower()\n",
    "\n",
    "    # returner teksten\n",
    "    return text\n",
    "    \n",
    "# Apply the cleaning function to the text column\n",
    "mekuni_adl_dataset['clean_text'] = mekuni_adl_dataset['text'].apply(lambda x: clean(x))"
   ]
  },
  {
   "cell_type": "markdown",
   "id": "629d0612-059d-4ce9-a483-1ef04c05391d",
   "metadata": {},
   "source": [
    "## Fjern stopord\n",
    "\n",
    "Jeg vil anvende et collocation-værktøj senere, og i den vil jeg ikke inkludere stopord, så jeg vælger at lave nye tekststrenge uden stopord for at få bedre resultater ud af min collocation-analyse.\n",
    "\n",
    "I mappen \"stopwords\" har jeg en txt-fil med stopord. Jeg læser filen ind i scriptet, laver den til en liste, og tilføjer plads til at tilføje yderligere ting til listen."
   ]
  },
  {
   "cell_type": "code",
   "execution_count": 9,
   "id": "19e552a2-1de2-4473-bf5c-ca11f4e6d03b",
   "metadata": {},
   "outputs": [],
   "source": [
    "# Indlæs danske stopword fra en txt fil\n",
    "sw_file = r'stopwords/adl_dataset_stopwords.txt'\n",
    "\n",
    "with open(sw_file, 'r', encoding='utf-8') as f:\n",
    "    stop_words = f.read().split()\n",
    "    # Tilføj flere stopord eller grammatiske tegn efter behov\n",
    "    stop_words.extend(['_', '/', \"'\"])\n",
    "\n",
    "# Skriv en funktion, som fjerner stopord fra teksten\n",
    "def remove_stopwords(clean_text):   \n",
    "    # Fra tekststring til ordliste\n",
    "    tokens = clean_text.split()\n",
    "    tokens_wo_stopwords = [i for i in tokens if i.lower() not in stop_words]\n",
    "    clean_text_wo_stopwords = ' '.join(tokens_wo_stopwords)\n",
    "    return clean_text_wo_stopwords\n",
    "\n",
    "# Applicer stopordsfunktionen og fjern stopord\n",
    "mekuni_adl_dataset['clean_text_wo_stopwords'] = mekuni_adl_dataset['clean_text'].apply( lambda x : remove_stopwords(x))"
   ]
  },
  {
   "cell_type": "code",
   "execution_count": 10,
   "id": "7893298e-1625-4516-a6af-b0e451a4c5f5",
   "metadata": {},
   "outputs": [
    {
     "data": {
      "text/html": [
       "<div>\n",
       "<style scoped>\n",
       "    .dataframe tbody tr th:only-of-type {\n",
       "        vertical-align: middle;\n",
       "    }\n",
       "\n",
       "    .dataframe tbody tr th {\n",
       "        vertical-align: top;\n",
       "    }\n",
       "\n",
       "    .dataframe thead th {\n",
       "        text-align: right;\n",
       "    }\n",
       "</style>\n",
       "<table border=\"1\" class=\"dataframe\">\n",
       "  <thead>\n",
       "    <tr style=\"text-align: right;\">\n",
       "      <th></th>\n",
       "      <th>title</th>\n",
       "      <th>place</th>\n",
       "      <th>year</th>\n",
       "      <th>author</th>\n",
       "      <th>birth_year</th>\n",
       "      <th>death_year</th>\n",
       "      <th>xml_file_name</th>\n",
       "      <th>url</th>\n",
       "      <th>text</th>\n",
       "      <th>clean_text</th>\n",
       "      <th>clean_text_wo_stopwords</th>\n",
       "    </tr>\n",
       "  </thead>\n",
       "  <tbody>\n",
       "    <tr>\n",
       "      <th>3</th>\n",
       "      <td>Udvalgte Skrifter.</td>\n",
       "      <td>København</td>\n",
       "      <td>1928</td>\n",
       "      <td>Bagger, Carl.</td>\n",
       "      <td>1807</td>\n",
       "      <td>1846</td>\n",
       "      <td>bagger01val.xml</td>\n",
       "      <td>https://tekster.kb.dk/text/adl-texts-bagger01v...</td>\n",
       "      <td>Og hvorfor vil I vel skilles ad, Kan Kjærlighe...</td>\n",
       "      <td>hvorfor vil vel skilles kan kjærlighed skifte...</td>\n",
       "      <td>skilles kjærlighed skiftes had harmfuldt sind ...</td>\n",
       "    </tr>\n",
       "    <tr>\n",
       "      <th>4</th>\n",
       "      <td>Eventyr og Fortællinger. - 1889.</td>\n",
       "      <td>København</td>\n",
       "      <td>1889</td>\n",
       "      <td>Baggesen, Jens.</td>\n",
       "      <td>1764</td>\n",
       "      <td>1826</td>\n",
       "      <td>baggesen01val.xml</td>\n",
       "      <td>https://tekster.kb.dk/text/adl-texts-baggesen0...</td>\n",
       "      <td>F ortvivlelse! dig helliges min Sang, Og den, ...</td>\n",
       "      <td>ortvivlelse dig helliges min sang den som hæn...</td>\n",
       "      <td>ortvivlelse helliges sang hænger hang hænge ør...</td>\n",
       "    </tr>\n",
       "  </tbody>\n",
       "</table>\n",
       "</div>"
      ],
      "text/plain": [
       "                              title      place  year           author  \\\n",
       "3                Udvalgte Skrifter.  København  1928    Bagger, Carl.   \n",
       "4  Eventyr og Fortællinger. - 1889.  København  1889  Baggesen, Jens.   \n",
       "\n",
       "   birth_year  death_year      xml_file_name  \\\n",
       "3        1807        1846    bagger01val.xml   \n",
       "4        1764        1826  baggesen01val.xml   \n",
       "\n",
       "                                                 url  \\\n",
       "3  https://tekster.kb.dk/text/adl-texts-bagger01v...   \n",
       "4  https://tekster.kb.dk/text/adl-texts-baggesen0...   \n",
       "\n",
       "                                                text  \\\n",
       "3  Og hvorfor vil I vel skilles ad, Kan Kjærlighe...   \n",
       "4  F ortvivlelse! dig helliges min Sang, Og den, ...   \n",
       "\n",
       "                                          clean_text  \\\n",
       "3   hvorfor vil vel skilles kan kjærlighed skifte...   \n",
       "4   ortvivlelse dig helliges min sang den som hæn...   \n",
       "\n",
       "                             clean_text_wo_stopwords  \n",
       "3  skilles kjærlighed skiftes had harmfuldt sind ...  \n",
       "4  ortvivlelse helliges sang hænger hang hænge ør...  "
      ]
     },
     "execution_count": 10,
     "metadata": {},
     "output_type": "execute_result"
    }
   ],
   "source": [
    "mekuni_adl_dataset.head(2)"
   ]
  },
  {
   "cell_type": "markdown",
   "id": "9eaca7bf-0346-4670-b21f-f531aaf7b429",
   "metadata": {},
   "source": [
    "## Kollokationer\n",
    "\n",
    "Kollokation er en metode til at undersøge, hvilke ord der i et korpus optræder hyppigere end andre ord i nærheden af udvalgte nøgleord. \n",
    "\n",
    "Tilføj eller erstat nøgleorden med dine egne ord."
   ]
  },
  {
   "cell_type": "code",
   "execution_count": 11,
   "id": "1a4fd59b-8526-4768-ab4a-9ae1e195986b",
   "metadata": {},
   "outputs": [],
   "source": [
    "# Tilføj nøgleord til kollokations analysen\n",
    "keywords = ['fader', 'moder', 'barn']\n",
    "\n",
    "in_data_list = ' '.join(mekuni_adl_dataset['clean_text_wo_stopwords']).split()\n",
    "\n",
    "# Forbered en dictionary til at holde styr på, hvor ofte andre ord optræder i nærheden af nøgleordene\n",
    "keyword_proximity_counts = {keyword: Counter() for keyword in keywords}\n",
    "\n",
    "# Juster \"nærhed\" \n",
    "window_size = 10\n",
    "\n",
    "# Tæl ord i nærheden af hvert nøgleord\n",
    "for i, token in enumerate(in_data_list):\n",
    "    if token in keywords:\n",
    "        # Definer vinduet / nærheden omkring nøgleordet\n",
    "        start = max(0, i - window_size)\n",
    "        end = min(len(in_data_list), i + window_size + 1)\n",
    "        # Tæl ordene inden for vinduet, men ekskluder nøgleordet\n",
    "        for j in range(start, end):\n",
    "            if j != i:\n",
    "                keyword_proximity_counts[token][in_data_list[j]] += 1\n",
    "\n",
    "# Filtering af ord som optræder med en hyppighed færre gange eller lig med en udvalgt grænseværdi \n",
    "# Juster grænseværdien efter behov\n",
    "threshold_value = 80\n",
    "filtered_keyword_proximity_counts = {\n",
    "    keyword: Counter({term: count for term, count in counts.items() if count >= 80})\n",
    "    for keyword, counts in keyword_proximity_counts.items()}"
   ]
  },
  {
   "cell_type": "markdown",
   "id": "5d595c59-e51e-41e5-bb87-1fb0264d271b",
   "metadata": {},
   "source": [
    "## Visualiser kollokationerne\n",
    "Hvis jeg udskriver indholdet af variablen \"filtered_keyword_proximity_counts\", kan vi se de forskellige nøgleord sammen med kollokationerne.\n",
    "\n",
    "Det er kollokationerne, der findes efter, at vi har fjernet stopord og justeret vinduesstørrelsen til 10. Det kan være lidt forvirrende at se dataene i den udskrevne form, så jeg har valgt at bruge matplotlib til at visualisere kollokationerne med søjlediagrammer."
   ]
  },
  {
   "cell_type": "code",
   "execution_count": 12,
   "id": "a459d50c-e63d-4476-8e13-1d6ad665d9bf",
   "metadata": {},
   "outputs": [
    {
     "data": {
      "image/png": "[encoded data removed]",
      "text/plain": [
       "<Figure size 1000x600 with 1 Axes>"
      ]
     },
     "metadata": {},
     "output_type": "display_data"
    },
    {
     "data": {
      "image/png": "[encoded data removed]",
      "text/plain": [
       "<Figure size 1000x600 with 1 Axes>"
      ]
     },
     "metadata": {},
     "output_type": "display_data"
    },
    {
     "data": {
      "image/png": "[encoded data removed]",
      "text/plain": [
       "<Figure size 1000x600 with 1 Axes>"
      ]
     },
     "metadata": {},
     "output_type": "display_data"
    }
   ],
   "source": [
    "# Konverter hver gruppes sammentælling til en DataFrame og gem dem i en tom liste\n",
    "dfs = []\n",
    "for keyword, counter in filtered_keyword_proximity_counts.items():\n",
    "    df = pd.DataFrame(counter.items(), columns=['Word', 'Frequency'])\n",
    "    df['Keyword_Group'] = keyword\n",
    "    dfs.append(df)\n",
    "\n",
    "# Sammenkæd alle DataFrames fra listen\n",
    "all_data = pd.concat(dfs, ignore_index=True)\n",
    "\n",
    "# Lav individuelle søjlediagrammer for hver gruppe af nøgleord\n",
    "for keyword in filtered_keyword_proximity_counts.keys():\n",
    "    df_subset = all_data[all_data['Keyword_Group'] == keyword]\n",
    "    plt.figure(figsize=(10,6))\n",
    "    df_subset = df_subset.sort_values(by='Frequency', ascending=False).head(10)\n",
    "    plt.barh(df_subset['Word'], df_subset['Frequency'], color='skyblue')\n",
    "    plt.xlabel('Frequency')\n",
    "    plt.title(f'Ord, der ofte findes i nærheden af \"{keyword}\"')\n",
    "    plt.gca().invert_yaxis()\n",
    "    plt.tight_layout()\n",
    "    plt.show()"
   ]
  },
  {
   "cell_type": "code",
   "execution_count": null,
   "id": "091b8f6c-c7e8-47db-adf0-a43d50187a97",
   "metadata": {},
   "outputs": [],
   "source": []
  }
 ],
 "metadata": {
  "kernelspec": {
   "display_name": "Python 3 (ipykernel)",
   "language": "python",
   "name": "python3"
  },
  "language_info": {
   "codemirror_mode": {
    "name": "ipython",
    "version": 3
   },
   "file_extension": ".py",
   "mimetype": "text/x-python",
   "name": "python",
   "nbconvert_exporter": "python",
   "pygments_lexer": "ipython3",
   "version": "3.9.21"
  }
 },
 "nbformat": 4,
 "nbformat_minor": 5
}